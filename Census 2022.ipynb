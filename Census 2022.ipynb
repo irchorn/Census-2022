{
 "cells": [
  {
   "cell_type": "code",
   "execution_count": 79,
   "id": "74b73de5",
   "metadata": {},
   "outputs": [],
   "source": [
    "import pandas as pd\n",
    "import plotly.express as px\n",
    "import plotly.graph_objects as go"
   ]
  },
  {
   "cell_type": "code",
   "execution_count": 80,
   "id": "0f710edd",
   "metadata": {},
   "outputs": [],
   "source": [
    "census_df= pd.read_csv('census_data_2022.csv')"
   ]
  },
  {
   "cell_type": "code",
   "execution_count": 81,
   "id": "55744ed0",
   "metadata": {},
   "outputs": [
    {
     "data": {
      "text/plain": [
       "pandas.core.frame.DataFrame"
      ]
     },
     "execution_count": 81,
     "metadata": {},
     "output_type": "execute_result"
    }
   ],
   "source": [
    "type(census_df)"
   ]
  },
  {
   "cell_type": "code",
   "execution_count": 91,
   "id": "b9b95ba2",
   "metadata": {},
   "outputs": [
    {
     "name": "stdout",
     "output_type": "stream",
     "text": [
      "  Zipcode  Total Population  Total Population Male  Total Population Female  \\\n",
      "0   10029             75614                  33346                    42268   \n",
      "1   10035             38595                  19828                    18767   \n",
      "2   11201             69755                  33195                    36560   \n",
      "3   11203             78506                  36032                    42474   \n",
      "4   11204             80575                  39889                    40686   \n",
      "\n",
      "   Sex ratio (males per 100 females)  Total Population Male Margin of Error  \\\n",
      "0                               78.9                                   1810   \n",
      "1                              105.7                                   1594   \n",
      "2                               90.8                                   1663   \n",
      "3                               84.8                                   1634   \n",
      "4                               98.0                                   1940   \n",
      "\n",
      "   Total Population Male Percent  Total Population Female Margin of Error  \\\n",
      "0                           44.1                                     2329   \n",
      "1                           51.4                                     1424   \n",
      "2                           47.6                                     1598   \n",
      "3                           45.9                                     1664   \n",
      "4                           49.5                                     1882   \n",
      "\n",
      "   Total Population Female Percent  Total Population Under 5 years  \\\n",
      "0                             55.9                            3965   \n",
      "1                             48.6                            2382   \n",
      "2                             52.4                            4950   \n",
      "3                             54.1                            4037   \n",
      "4                             50.5                            7209   \n",
      "\n",
      "   Total Population under 18  Total Housing Units  \n",
      "0                      13641                37150  \n",
      "1                       8206                16239  \n",
      "2                      12300                35121  \n",
      "3                      14669                32743  \n",
      "4                      24145                27408  \n"
     ]
    }
   ],
   "source": [
    "print(census_df.head())"
   ]
  },
  {
   "cell_type": "code",
   "execution_count": 93,
   "id": "ef8f2366",
   "metadata": {},
   "outputs": [
    {
     "name": "stdout",
     "output_type": "stream",
     "text": [
      "Index(['Zipcode', 'Total Population', 'Total Population Male',\n",
      "       'Total Population Female', 'Sex ratio (males per 100 females)',\n",
      "       'Total Population Male Margin of Error',\n",
      "       'Total Population Male Percent',\n",
      "       'Total Population Female Margin of Error',\n",
      "       'Total Population Female Percent', 'Total Population Under 5 years',\n",
      "       'Total Population under 18', 'Total Housing Units'],\n",
      "      dtype='object')\n"
     ]
    }
   ],
   "source": [
    "# Print the original column names\n",
    "print(census_df.columns)\n"
   ]
  },
  {
   "cell_type": "code",
   "execution_count": 94,
   "id": "0cec5805",
   "metadata": {},
   "outputs": [],
   "source": [
    "# Rename the columns\n",
    "census_df = census_df.rename(columns={\n",
    "    'NAME': 'Zipcode',\n",
    "    'DP05_0001E': 'Total Population',\n",
    "    'DP05_0002E':'Total Population Male',\n",
    "    'DP05_0001M': 'Total Population Margin of Error',\n",
    "    'DP05_0003E':'Total Population Female',\n",
    "    'DP05_0004E': 'Sex ratio (males per 100 females)',\n",
    "    'DP05_0002M': 'Total Population Male Margin of Error',\n",
    "    'DP05_0002PE':'Total Population Male Percent',\n",
    "    #'DP05_0002PM':'Male Percent Margin of error',\n",
    "    'DP05_0003M':'Total Population Female Margin of Error',\n",
    "    'DP05_0003PE':'Total Population Female Percent',\n",
    "    #'DP05_0003PM':'Female Percent Margin of error',\n",
    "    'DP05_0005E': 'Total Population Under 5 years',\n",
    "    'DP05_0019E': 'Total Population under 18',\n",
    "    'DP05_0088E': 'Total Housing Units'\n",
    "\n",
    "    # Add more columns here as needed\n",
    "})"
   ]
  },
  {
   "cell_type": "code",
   "execution_count": 95,
   "id": "9b8938c4",
   "metadata": {},
   "outputs": [
    {
     "name": "stdout",
     "output_type": "stream",
     "text": [
      "New column names:\n",
      "Index(['Zipcode', 'Total Population', 'Total Population Male',\n",
      "       'Total Population Female', 'Sex ratio (males per 100 females)',\n",
      "       'Total Population Male Margin of Error',\n",
      "       'Total Population Male Percent',\n",
      "       'Total Population Female Margin of Error',\n",
      "       'Total Population Female Percent', 'Total Population Under 5 years',\n",
      "       'Total Population under 18', 'Total Housing Units'],\n",
      "      dtype='object')\n"
     ]
    }
   ],
   "source": [
    "# Print the new column names\n",
    "print(\"New column names:\")\n",
    "print(census_df.columns)"
   ]
  },
  {
   "cell_type": "code",
   "execution_count": 96,
   "id": "982c117a",
   "metadata": {},
   "outputs": [],
   "source": [
    "census_df=census_df[['Zipcode','Total Population', 'Total Population Male', 'Total Population Female', 'Sex ratio (males per 100 females)','Total Population Male Margin of Error','Total Population Male Percent', 'Total Population Female Margin of Error','Total Population Female Percent', 'Total Population Under 5 years','Total Population under 18','Total Housing Units'      ]]"
   ]
  },
  {
   "cell_type": "code",
   "execution_count": 97,
   "id": "f3487d85",
   "metadata": {},
   "outputs": [
    {
     "name": "stdout",
     "output_type": "stream",
     "text": [
      "   Zipcode  Total Population  Total Population Male  Total Population Female  \\\n",
      "0    10029             75614                  33346                    42268   \n",
      "1    10035             38595                  19828                    18767   \n",
      "2    11201             69755                  33195                    36560   \n",
      "3    11203             78506                  36032                    42474   \n",
      "4    11204             80575                  39889                    40686   \n",
      "5    11205             50319                  23065                    27254   \n",
      "6    11206             89949                  42868                    47081   \n",
      "7    11209             71812                  34635                    37177   \n",
      "8    11210             63426                  31315                    32111   \n",
      "9    11212             84006                  35682                    48324   \n",
      "10   11213             69131                  32227                    36904   \n",
      "11   11214             90796                  44699                    46097   \n",
      "12   11215             72014                  35708                    36306   \n",
      "13   11216             62373                  28654                    33719   \n",
      "14   11217             43045                  19759                    23286   \n",
      "15   11218             73318                  37486                    35832   \n",
      "16   11219             92283                  47258                    45025   \n",
      "17   11220             93008                  46378                    46630   \n",
      "18   11221             91236                  42539                    48697   \n",
      "19   11223             80113                  38338                    41775   \n",
      "20   11224             47893                  22112                    25781   \n",
      "21   11225             58476                  27373                    31103   \n",
      "22   11226            101053                  46615                    54438   \n",
      "23   11228             44196                  22098                    22098   \n",
      "24   11229             81109                  39428                    41681   \n",
      "25   11230             90245                  44876                    45369   \n",
      "26   11231             38829                  18277                    20552   \n",
      "27   11232             28137                  15242                    12895   \n",
      "28   11233             83125                  37663                    45462   \n",
      "29   11234             89976                  41815                    48161   \n",
      "30   11235             83069                  40192                    42877   \n",
      "31   11236            100082                  45553                    54529   \n",
      "32   11237             47183                  24514                    22669   \n",
      "33   11238             58047                  26680                    31367   \n",
      "34   11239             16808                   6797                    10011   \n",
      "\n",
      "    Sex ratio (males per 100 females)  Total Population Male Margin of Error  \\\n",
      "0                                78.9                                   1810   \n",
      "1                               105.7                                   1594   \n",
      "2                                90.8                                   1663   \n",
      "3                                84.8                                   1634   \n",
      "4                                98.0                                   1940   \n",
      "5                                84.6                                   1381   \n",
      "6                                91.1                                   2395   \n",
      "7                                93.2                                   1293   \n",
      "8                                97.5                                   1526   \n",
      "9                                73.8                                   2609   \n",
      "10                               87.3                                   1832   \n",
      "11                               97.0                                   1988   \n",
      "12                               98.4                                   1742   \n",
      "13                               85.0                                   1583   \n",
      "14                               84.9                                    938   \n",
      "15                              104.6                                   2132   \n",
      "16                              105.0                                   2326   \n",
      "17                               99.5                                   2181   \n",
      "18                               87.4                                   2352   \n",
      "19                               91.8                                   1734   \n",
      "20                               85.8                                   1539   \n",
      "21                               88.0                                   1684   \n",
      "22                               85.6                                   2251   \n",
      "23                              100.0                                   1360   \n",
      "24                               94.6                                   1545   \n",
      "25                               98.9                                   1844   \n",
      "26                               88.9                                   1298   \n",
      "27                              118.2                                   1030   \n",
      "28                               82.8                                   1886   \n",
      "29                               86.8                                   1596   \n",
      "30                               93.7                                   1677   \n",
      "31                               83.5                                   1751   \n",
      "32                              108.1                                   1549   \n",
      "33                               85.1                                   1281   \n",
      "34                               67.9                                    824   \n",
      "\n",
      "    Total Population Male Percent  Total Population Female Margin of Error  \\\n",
      "0                            44.1                                     2329   \n",
      "1                            51.4                                     1424   \n",
      "2                            47.6                                     1598   \n",
      "3                            45.9                                     1664   \n",
      "4                            49.5                                     1882   \n",
      "5                            45.8                                     1541   \n",
      "6                            47.7                                     2012   \n",
      "7                            48.2                                     1254   \n",
      "8                            49.4                                     1530   \n",
      "9                            42.5                                     2491   \n",
      "10                           46.6                                     1643   \n",
      "11                           49.2                                     1833   \n",
      "12                           49.6                                     1451   \n",
      "13                           45.9                                     1674   \n",
      "14                           45.9                                     1257   \n",
      "15                           51.1                                     1805   \n",
      "16                           51.2                                     2131   \n",
      "17                           49.9                                     2167   \n",
      "18                           46.6                                     2404   \n",
      "19                           47.9                                     2053   \n",
      "20                           46.2                                     1148   \n",
      "21                           46.8                                     1931   \n",
      "22                           46.1                                     2672   \n",
      "23                           50.0                                     1168   \n",
      "24                           48.6                                     1731   \n",
      "25                           49.7                                     1497   \n",
      "26                           47.1                                     1654   \n",
      "27                           54.2                                     1010   \n",
      "28                           45.3                                     1991   \n",
      "29                           46.5                                     1721   \n",
      "30                           48.4                                     1573   \n",
      "31                           45.5                                     1934   \n",
      "32                           52.0                                     1362   \n",
      "33                           46.0                                     1358   \n",
      "34                           40.4                                      992   \n",
      "\n",
      "    Total Population Female Percent  Total Population Under 5 years  \\\n",
      "0                              55.9                            3965   \n",
      "1                              48.6                            2382   \n",
      "2                              52.4                            4950   \n",
      "3                              54.1                            4037   \n",
      "4                              50.5                            7209   \n",
      "5                              54.2                            4751   \n",
      "6                              52.3                            7202   \n",
      "7                              51.8                            4186   \n",
      "8                              50.6                            3475   \n",
      "9                              57.5                            5889   \n",
      "10                             53.4                            4835   \n",
      "11                             50.8                            5230   \n",
      "12                             50.4                            5712   \n",
      "13                             54.1                            3107   \n",
      "14                             54.1                            3694   \n",
      "15                             48.9                            4931   \n",
      "16                             48.8                           12125   \n",
      "17                             50.1                            5782   \n",
      "18                             53.4                            4616   \n",
      "19                             52.1                            6642   \n",
      "20                             53.8                            2274   \n",
      "21                             53.2                            3053   \n",
      "22                             53.9                            5566   \n",
      "23                             50.0                            2279   \n",
      "24                             51.4                            4778   \n",
      "25                             50.3                            7918   \n",
      "26                             52.9                            3167   \n",
      "27                             45.8                            1542   \n",
      "28                             54.7                            5703   \n",
      "29                             53.5                            4665   \n",
      "30                             51.6                            4313   \n",
      "31                             54.5                            5712   \n",
      "32                             48.0                            2014   \n",
      "33                             54.0                            4452   \n",
      "34                             59.6                             487   \n",
      "\n",
      "    Total Population under 18  Total Housing Units  \n",
      "0                       13641                37150  \n",
      "1                        8206                16239  \n",
      "2                       12300                35121  \n",
      "3                       14669                32743  \n",
      "4                       24145                27408  \n",
      "5                       15487                18788  \n",
      "6                       24655                34062  \n",
      "7                       14149                33347  \n",
      "8                       14836                23064  \n",
      "9                       19387                34529  \n",
      "10                      16216                28552  \n",
      "11                      19452                33482  \n",
      "12                      16175                31967  \n",
      "13                       9680                28596  \n",
      "14                       8135                20908  \n",
      "15                      19225                27395  \n",
      "16                      35847                27374  \n",
      "17                      23657                30565  \n",
      "18                      15769                37962  \n",
      "19                      21509                29145  \n",
      "20                       9410                21072  \n",
      "21                       9790                26703  \n",
      "22                      18944                41821  \n",
      "23                       8145                16650  \n",
      "24                      17901                33403  \n",
      "25                      24631                34324  \n",
      "26                       8980                17956  \n",
      "27                       5620                10180  \n",
      "28                      17353                34246  \n",
      "29                      19326                35350  \n",
      "30                      14176                36885  \n",
      "31                      21790                36879  \n",
      "32                       7496                18725  \n",
      "33                       9837                28741  \n",
      "34                       3175                 8738  \n"
     ]
    }
   ],
   "source": [
    "print(census_df)"
   ]
  },
  {
   "cell_type": "code",
   "execution_count": 98,
   "id": "ba10cea8",
   "metadata": {},
   "outputs": [],
   "source": [
    "census_df['Zipcode']=census_df['Zipcode'].replace('ZCTA5', '', regex=True)"
   ]
  },
  {
   "cell_type": "markdown",
   "id": "e53bf0f5",
   "metadata": {},
   "source": [
    "<b> Geographic analysis: the distribution of population and housing units across different zip codes. <b>"
   ]
  },
  {
   "cell_type": "code",
   "execution_count": 99,
   "id": "86c096f0",
   "metadata": {},
   "outputs": [],
   "source": [
    "geo_df = census_df[['Zipcode', 'Total Population', 'Total Housing Units']]"
   ]
  },
  {
   "cell_type": "code",
   "execution_count": 101,
   "id": "4393814d",
   "metadata": {},
   "outputs": [
    {
     "name": "stdout",
     "output_type": "stream",
     "text": [
      "         Total Population  Total Housing Units\n",
      "Zipcode                                       \n",
      " 10029              75614                37150\n",
      " 10035              38595                16239\n",
      " 11201              69755                35121\n",
      " 11203              78506                32743\n",
      " 11204              80575                27408\n"
     ]
    }
   ],
   "source": [
    "# Print the total population and housing units for each zip code\n",
    "geo_df = geo_df.groupby('Zipcode').sum()\n",
    "print(geo_df.head())"
   ]
  },
  {
   "cell_type": "code",
   "execution_count": 102,
   "id": "1bfb99fd",
   "metadata": {},
   "outputs": [],
   "source": [
    "geo_df = geo_df.sort_values(by=[ 'Total Housing Units'], ascending=False)"
   ]
  },
  {
   "cell_type": "code",
   "execution_count": 103,
   "id": "6b8f878a",
   "metadata": {},
   "outputs": [
    {
     "data": {
      "application/vnd.plotly.v1+json": {
       "config": {
        "plotlyServerURL": "https://plot.ly"
       },
       "data": [
        {
         "alignmentgroup": "True",
         "hovertemplate": "Metric=Total Population<br>Zipcode=%{x}<br>Count=%{y}<extra></extra>",
         "legendgroup": "Total Population",
         "marker": {
          "color": "#636efa",
          "pattern": {
           "shape": ""
          }
         },
         "name": "Total Population",
         "offsetgroup": "Total Population",
         "orientation": "v",
         "showlegend": true,
         "textposition": "auto",
         "type": "bar",
         "x": [
          " 11226",
          " 11221",
          " 10029",
          " 11235",
          " 11236",
          " 11234",
          " 11201",
          " 11212",
          " 11230",
          " 11233",
          " 11206",
          " 11214",
          " 11229",
          " 11209",
          " 11203",
          " 11215",
          " 11220",
          " 11223",
          " 11238",
          " 11216",
          " 11213",
          " 11204",
          " 11218",
          " 11219",
          " 11225",
          " 11210",
          " 11224",
          " 11217",
          " 11205",
          " 11237",
          " 11231",
          " 11228",
          " 10035",
          " 11232",
          " 11239"
         ],
         "xaxis": "x",
         "y": [
          101053,
          91236,
          75614,
          83069,
          100082,
          89976,
          69755,
          84006,
          90245,
          83125,
          89949,
          90796,
          81109,
          71812,
          78506,
          72014,
          93008,
          80113,
          58047,
          62373,
          69131,
          80575,
          73318,
          92283,
          58476,
          63426,
          47893,
          43045,
          50319,
          47183,
          38829,
          44196,
          38595,
          28137,
          16808
         ],
         "yaxis": "y"
        },
        {
         "alignmentgroup": "True",
         "hovertemplate": "Metric=Total Housing Units<br>Zipcode=%{x}<br>Count=%{y}<extra></extra>",
         "legendgroup": "Total Housing Units",
         "marker": {
          "color": "#EF553B",
          "pattern": {
           "shape": ""
          }
         },
         "name": "Total Housing Units",
         "offsetgroup": "Total Housing Units",
         "orientation": "v",
         "showlegend": true,
         "textposition": "auto",
         "type": "bar",
         "x": [
          " 11226",
          " 11221",
          " 10029",
          " 11235",
          " 11236",
          " 11234",
          " 11201",
          " 11212",
          " 11230",
          " 11233",
          " 11206",
          " 11214",
          " 11229",
          " 11209",
          " 11203",
          " 11215",
          " 11220",
          " 11223",
          " 11238",
          " 11216",
          " 11213",
          " 11204",
          " 11218",
          " 11219",
          " 11225",
          " 11210",
          " 11224",
          " 11217",
          " 11205",
          " 11237",
          " 11231",
          " 11228",
          " 10035",
          " 11232",
          " 11239"
         ],
         "xaxis": "x",
         "y": [
          41821,
          37962,
          37150,
          36885,
          36879,
          35350,
          35121,
          34529,
          34324,
          34246,
          34062,
          33482,
          33403,
          33347,
          32743,
          31967,
          30565,
          29145,
          28741,
          28596,
          28552,
          27408,
          27395,
          27374,
          26703,
          23064,
          21072,
          20908,
          18788,
          18725,
          17956,
          16650,
          16239,
          10180,
          8738
         ],
         "yaxis": "y"
        }
       ],
       "layout": {
        "barmode": "relative",
        "legend": {
         "title": {
          "text": "Metric"
         },
         "tracegroupgap": 0
        },
        "margin": {
         "t": 60
        },
        "template": {
         "data": {
          "bar": [
           {
            "error_x": {
             "color": "#2a3f5f"
            },
            "error_y": {
             "color": "#2a3f5f"
            },
            "marker": {
             "line": {
              "color": "#E5ECF6",
              "width": 0.5
             },
             "pattern": {
              "fillmode": "overlay",
              "size": 10,
              "solidity": 0.2
             }
            },
            "type": "bar"
           }
          ],
          "barpolar": [
           {
            "marker": {
             "line": {
              "color": "#E5ECF6",
              "width": 0.5
             },
             "pattern": {
              "fillmode": "overlay",
              "size": 10,
              "solidity": 0.2
             }
            },
            "type": "barpolar"
           }
          ],
          "carpet": [
           {
            "aaxis": {
             "endlinecolor": "#2a3f5f",
             "gridcolor": "white",
             "linecolor": "white",
             "minorgridcolor": "white",
             "startlinecolor": "#2a3f5f"
            },
            "baxis": {
             "endlinecolor": "#2a3f5f",
             "gridcolor": "white",
             "linecolor": "white",
             "minorgridcolor": "white",
             "startlinecolor": "#2a3f5f"
            },
            "type": "carpet"
           }
          ],
          "choropleth": [
           {
            "colorbar": {
             "outlinewidth": 0,
             "ticks": ""
            },
            "type": "choropleth"
           }
          ],
          "contour": [
           {
            "colorbar": {
             "outlinewidth": 0,
             "ticks": ""
            },
            "colorscale": [
             [
              0,
              "#0d0887"
             ],
             [
              0.1111111111111111,
              "#46039f"
             ],
             [
              0.2222222222222222,
              "#7201a8"
             ],
             [
              0.3333333333333333,
              "#9c179e"
             ],
             [
              0.4444444444444444,
              "#bd3786"
             ],
             [
              0.5555555555555556,
              "#d8576b"
             ],
             [
              0.6666666666666666,
              "#ed7953"
             ],
             [
              0.7777777777777778,
              "#fb9f3a"
             ],
             [
              0.8888888888888888,
              "#fdca26"
             ],
             [
              1,
              "#f0f921"
             ]
            ],
            "type": "contour"
           }
          ],
          "contourcarpet": [
           {
            "colorbar": {
             "outlinewidth": 0,
             "ticks": ""
            },
            "type": "contourcarpet"
           }
          ],
          "heatmap": [
           {
            "colorbar": {
             "outlinewidth": 0,
             "ticks": ""
            },
            "colorscale": [
             [
              0,
              "#0d0887"
             ],
             [
              0.1111111111111111,
              "#46039f"
             ],
             [
              0.2222222222222222,
              "#7201a8"
             ],
             [
              0.3333333333333333,
              "#9c179e"
             ],
             [
              0.4444444444444444,
              "#bd3786"
             ],
             [
              0.5555555555555556,
              "#d8576b"
             ],
             [
              0.6666666666666666,
              "#ed7953"
             ],
             [
              0.7777777777777778,
              "#fb9f3a"
             ],
             [
              0.8888888888888888,
              "#fdca26"
             ],
             [
              1,
              "#f0f921"
             ]
            ],
            "type": "heatmap"
           }
          ],
          "heatmapgl": [
           {
            "colorbar": {
             "outlinewidth": 0,
             "ticks": ""
            },
            "colorscale": [
             [
              0,
              "#0d0887"
             ],
             [
              0.1111111111111111,
              "#46039f"
             ],
             [
              0.2222222222222222,
              "#7201a8"
             ],
             [
              0.3333333333333333,
              "#9c179e"
             ],
             [
              0.4444444444444444,
              "#bd3786"
             ],
             [
              0.5555555555555556,
              "#d8576b"
             ],
             [
              0.6666666666666666,
              "#ed7953"
             ],
             [
              0.7777777777777778,
              "#fb9f3a"
             ],
             [
              0.8888888888888888,
              "#fdca26"
             ],
             [
              1,
              "#f0f921"
             ]
            ],
            "type": "heatmapgl"
           }
          ],
          "histogram": [
           {
            "marker": {
             "pattern": {
              "fillmode": "overlay",
              "size": 10,
              "solidity": 0.2
             }
            },
            "type": "histogram"
           }
          ],
          "histogram2d": [
           {
            "colorbar": {
             "outlinewidth": 0,
             "ticks": ""
            },
            "colorscale": [
             [
              0,
              "#0d0887"
             ],
             [
              0.1111111111111111,
              "#46039f"
             ],
             [
              0.2222222222222222,
              "#7201a8"
             ],
             [
              0.3333333333333333,
              "#9c179e"
             ],
             [
              0.4444444444444444,
              "#bd3786"
             ],
             [
              0.5555555555555556,
              "#d8576b"
             ],
             [
              0.6666666666666666,
              "#ed7953"
             ],
             [
              0.7777777777777778,
              "#fb9f3a"
             ],
             [
              0.8888888888888888,
              "#fdca26"
             ],
             [
              1,
              "#f0f921"
             ]
            ],
            "type": "histogram2d"
           }
          ],
          "histogram2dcontour": [
           {
            "colorbar": {
             "outlinewidth": 0,
             "ticks": ""
            },
            "colorscale": [
             [
              0,
              "#0d0887"
             ],
             [
              0.1111111111111111,
              "#46039f"
             ],
             [
              0.2222222222222222,
              "#7201a8"
             ],
             [
              0.3333333333333333,
              "#9c179e"
             ],
             [
              0.4444444444444444,
              "#bd3786"
             ],
             [
              0.5555555555555556,
              "#d8576b"
             ],
             [
              0.6666666666666666,
              "#ed7953"
             ],
             [
              0.7777777777777778,
              "#fb9f3a"
             ],
             [
              0.8888888888888888,
              "#fdca26"
             ],
             [
              1,
              "#f0f921"
             ]
            ],
            "type": "histogram2dcontour"
           }
          ],
          "mesh3d": [
           {
            "colorbar": {
             "outlinewidth": 0,
             "ticks": ""
            },
            "type": "mesh3d"
           }
          ],
          "parcoords": [
           {
            "line": {
             "colorbar": {
              "outlinewidth": 0,
              "ticks": ""
             }
            },
            "type": "parcoords"
           }
          ],
          "pie": [
           {
            "automargin": true,
            "type": "pie"
           }
          ],
          "scatter": [
           {
            "fillpattern": {
             "fillmode": "overlay",
             "size": 10,
             "solidity": 0.2
            },
            "type": "scatter"
           }
          ],
          "scatter3d": [
           {
            "line": {
             "colorbar": {
              "outlinewidth": 0,
              "ticks": ""
             }
            },
            "marker": {
             "colorbar": {
              "outlinewidth": 0,
              "ticks": ""
             }
            },
            "type": "scatter3d"
           }
          ],
          "scattercarpet": [
           {
            "marker": {
             "colorbar": {
              "outlinewidth": 0,
              "ticks": ""
             }
            },
            "type": "scattercarpet"
           }
          ],
          "scattergeo": [
           {
            "marker": {
             "colorbar": {
              "outlinewidth": 0,
              "ticks": ""
             }
            },
            "type": "scattergeo"
           }
          ],
          "scattergl": [
           {
            "marker": {
             "colorbar": {
              "outlinewidth": 0,
              "ticks": ""
             }
            },
            "type": "scattergl"
           }
          ],
          "scattermapbox": [
           {
            "marker": {
             "colorbar": {
              "outlinewidth": 0,
              "ticks": ""
             }
            },
            "type": "scattermapbox"
           }
          ],
          "scatterpolar": [
           {
            "marker": {
             "colorbar": {
              "outlinewidth": 0,
              "ticks": ""
             }
            },
            "type": "scatterpolar"
           }
          ],
          "scatterpolargl": [
           {
            "marker": {
             "colorbar": {
              "outlinewidth": 0,
              "ticks": ""
             }
            },
            "type": "scatterpolargl"
           }
          ],
          "scatterternary": [
           {
            "marker": {
             "colorbar": {
              "outlinewidth": 0,
              "ticks": ""
             }
            },
            "type": "scatterternary"
           }
          ],
          "surface": [
           {
            "colorbar": {
             "outlinewidth": 0,
             "ticks": ""
            },
            "colorscale": [
             [
              0,
              "#0d0887"
             ],
             [
              0.1111111111111111,
              "#46039f"
             ],
             [
              0.2222222222222222,
              "#7201a8"
             ],
             [
              0.3333333333333333,
              "#9c179e"
             ],
             [
              0.4444444444444444,
              "#bd3786"
             ],
             [
              0.5555555555555556,
              "#d8576b"
             ],
             [
              0.6666666666666666,
              "#ed7953"
             ],
             [
              0.7777777777777778,
              "#fb9f3a"
             ],
             [
              0.8888888888888888,
              "#fdca26"
             ],
             [
              1,
              "#f0f921"
             ]
            ],
            "type": "surface"
           }
          ],
          "table": [
           {
            "cells": {
             "fill": {
              "color": "#EBF0F8"
             },
             "line": {
              "color": "white"
             }
            },
            "header": {
             "fill": {
              "color": "#C8D4E3"
             },
             "line": {
              "color": "white"
             }
            },
            "type": "table"
           }
          ]
         },
         "layout": {
          "annotationdefaults": {
           "arrowcolor": "#2a3f5f",
           "arrowhead": 0,
           "arrowwidth": 1
          },
          "autotypenumbers": "strict",
          "coloraxis": {
           "colorbar": {
            "outlinewidth": 0,
            "ticks": ""
           }
          },
          "colorscale": {
           "diverging": [
            [
             0,
             "#8e0152"
            ],
            [
             0.1,
             "#c51b7d"
            ],
            [
             0.2,
             "#de77ae"
            ],
            [
             0.3,
             "#f1b6da"
            ],
            [
             0.4,
             "#fde0ef"
            ],
            [
             0.5,
             "#f7f7f7"
            ],
            [
             0.6,
             "#e6f5d0"
            ],
            [
             0.7,
             "#b8e186"
            ],
            [
             0.8,
             "#7fbc41"
            ],
            [
             0.9,
             "#4d9221"
            ],
            [
             1,
             "#276419"
            ]
           ],
           "sequential": [
            [
             0,
             "#0d0887"
            ],
            [
             0.1111111111111111,
             "#46039f"
            ],
            [
             0.2222222222222222,
             "#7201a8"
            ],
            [
             0.3333333333333333,
             "#9c179e"
            ],
            [
             0.4444444444444444,
             "#bd3786"
            ],
            [
             0.5555555555555556,
             "#d8576b"
            ],
            [
             0.6666666666666666,
             "#ed7953"
            ],
            [
             0.7777777777777778,
             "#fb9f3a"
            ],
            [
             0.8888888888888888,
             "#fdca26"
            ],
            [
             1,
             "#f0f921"
            ]
           ],
           "sequentialminus": [
            [
             0,
             "#0d0887"
            ],
            [
             0.1111111111111111,
             "#46039f"
            ],
            [
             0.2222222222222222,
             "#7201a8"
            ],
            [
             0.3333333333333333,
             "#9c179e"
            ],
            [
             0.4444444444444444,
             "#bd3786"
            ],
            [
             0.5555555555555556,
             "#d8576b"
            ],
            [
             0.6666666666666666,
             "#ed7953"
            ],
            [
             0.7777777777777778,
             "#fb9f3a"
            ],
            [
             0.8888888888888888,
             "#fdca26"
            ],
            [
             1,
             "#f0f921"
            ]
           ]
          },
          "colorway": [
           "#636efa",
           "#EF553B",
           "#00cc96",
           "#ab63fa",
           "#FFA15A",
           "#19d3f3",
           "#FF6692",
           "#B6E880",
           "#FF97FF",
           "#FECB52"
          ],
          "font": {
           "color": "#2a3f5f"
          },
          "geo": {
           "bgcolor": "white",
           "lakecolor": "white",
           "landcolor": "#E5ECF6",
           "showlakes": true,
           "showland": true,
           "subunitcolor": "white"
          },
          "hoverlabel": {
           "align": "left"
          },
          "hovermode": "closest",
          "mapbox": {
           "style": "light"
          },
          "paper_bgcolor": "white",
          "plot_bgcolor": "#E5ECF6",
          "polar": {
           "angularaxis": {
            "gridcolor": "white",
            "linecolor": "white",
            "ticks": ""
           },
           "bgcolor": "#E5ECF6",
           "radialaxis": {
            "gridcolor": "white",
            "linecolor": "white",
            "ticks": ""
           }
          },
          "scene": {
           "xaxis": {
            "backgroundcolor": "#E5ECF6",
            "gridcolor": "white",
            "gridwidth": 2,
            "linecolor": "white",
            "showbackground": true,
            "ticks": "",
            "zerolinecolor": "white"
           },
           "yaxis": {
            "backgroundcolor": "#E5ECF6",
            "gridcolor": "white",
            "gridwidth": 2,
            "linecolor": "white",
            "showbackground": true,
            "ticks": "",
            "zerolinecolor": "white"
           },
           "zaxis": {
            "backgroundcolor": "#E5ECF6",
            "gridcolor": "white",
            "gridwidth": 2,
            "linecolor": "white",
            "showbackground": true,
            "ticks": "",
            "zerolinecolor": "white"
           }
          },
          "shapedefaults": {
           "line": {
            "color": "#2a3f5f"
           }
          },
          "ternary": {
           "aaxis": {
            "gridcolor": "white",
            "linecolor": "white",
            "ticks": ""
           },
           "baxis": {
            "gridcolor": "white",
            "linecolor": "white",
            "ticks": ""
           },
           "bgcolor": "#E5ECF6",
           "caxis": {
            "gridcolor": "white",
            "linecolor": "white",
            "ticks": ""
           }
          },
          "title": {
           "x": 0.05
          },
          "xaxis": {
           "automargin": true,
           "gridcolor": "white",
           "linecolor": "white",
           "ticks": "",
           "title": {
            "standoff": 15
           },
           "zerolinecolor": "white",
           "zerolinewidth": 2
          },
          "yaxis": {
           "automargin": true,
           "gridcolor": "white",
           "linecolor": "white",
           "ticks": "",
           "title": {
            "standoff": 15
           },
           "zerolinecolor": "white",
           "zerolinewidth": 2
          }
         }
        },
        "xaxis": {
         "anchor": "y",
         "domain": [
          0,
          1
         ],
         "title": {
          "text": "Zipcode"
         }
        },
        "yaxis": {
         "anchor": "x",
         "domain": [
          0,
          1
         ],
         "title": {
          "text": "Count"
         }
        }
       }
      },
      "text/html": [
       "<div>                            <div id=\"bac7f3fa-1860-4583-9d5a-6dcd19048767\" class=\"plotly-graph-div\" style=\"height:525px; width:100%;\"></div>            <script type=\"text/javascript\">                require([\"plotly\"], function(Plotly) {                    window.PLOTLYENV=window.PLOTLYENV || {};                                    if (document.getElementById(\"bac7f3fa-1860-4583-9d5a-6dcd19048767\")) {                    Plotly.newPlot(                        \"bac7f3fa-1860-4583-9d5a-6dcd19048767\",                        [{\"alignmentgroup\":\"True\",\"hovertemplate\":\"Metric=Total Population<br>Zipcode=%{x}<br>Count=%{y}<extra></extra>\",\"legendgroup\":\"Total Population\",\"marker\":{\"color\":\"#636efa\",\"pattern\":{\"shape\":\"\"}},\"name\":\"Total Population\",\"offsetgroup\":\"Total Population\",\"orientation\":\"v\",\"showlegend\":true,\"textposition\":\"auto\",\"x\":[\" 11226\",\" 11221\",\" 10029\",\" 11235\",\" 11236\",\" 11234\",\" 11201\",\" 11212\",\" 11230\",\" 11233\",\" 11206\",\" 11214\",\" 11229\",\" 11209\",\" 11203\",\" 11215\",\" 11220\",\" 11223\",\" 11238\",\" 11216\",\" 11213\",\" 11204\",\" 11218\",\" 11219\",\" 11225\",\" 11210\",\" 11224\",\" 11217\",\" 11205\",\" 11237\",\" 11231\",\" 11228\",\" 10035\",\" 11232\",\" 11239\"],\"xaxis\":\"x\",\"y\":[101053,91236,75614,83069,100082,89976,69755,84006,90245,83125,89949,90796,81109,71812,78506,72014,93008,80113,58047,62373,69131,80575,73318,92283,58476,63426,47893,43045,50319,47183,38829,44196,38595,28137,16808],\"yaxis\":\"y\",\"type\":\"bar\"},{\"alignmentgroup\":\"True\",\"hovertemplate\":\"Metric=Total Housing Units<br>Zipcode=%{x}<br>Count=%{y}<extra></extra>\",\"legendgroup\":\"Total Housing Units\",\"marker\":{\"color\":\"#EF553B\",\"pattern\":{\"shape\":\"\"}},\"name\":\"Total Housing Units\",\"offsetgroup\":\"Total Housing Units\",\"orientation\":\"v\",\"showlegend\":true,\"textposition\":\"auto\",\"x\":[\" 11226\",\" 11221\",\" 10029\",\" 11235\",\" 11236\",\" 11234\",\" 11201\",\" 11212\",\" 11230\",\" 11233\",\" 11206\",\" 11214\",\" 11229\",\" 11209\",\" 11203\",\" 11215\",\" 11220\",\" 11223\",\" 11238\",\" 11216\",\" 11213\",\" 11204\",\" 11218\",\" 11219\",\" 11225\",\" 11210\",\" 11224\",\" 11217\",\" 11205\",\" 11237\",\" 11231\",\" 11228\",\" 10035\",\" 11232\",\" 11239\"],\"xaxis\":\"x\",\"y\":[41821,37962,37150,36885,36879,35350,35121,34529,34324,34246,34062,33482,33403,33347,32743,31967,30565,29145,28741,28596,28552,27408,27395,27374,26703,23064,21072,20908,18788,18725,17956,16650,16239,10180,8738],\"yaxis\":\"y\",\"type\":\"bar\"}],                        {\"template\":{\"data\":{\"histogram2dcontour\":[{\"type\":\"histogram2dcontour\",\"colorbar\":{\"outlinewidth\":0,\"ticks\":\"\"},\"colorscale\":[[0.0,\"#0d0887\"],[0.1111111111111111,\"#46039f\"],[0.2222222222222222,\"#7201a8\"],[0.3333333333333333,\"#9c179e\"],[0.4444444444444444,\"#bd3786\"],[0.5555555555555556,\"#d8576b\"],[0.6666666666666666,\"#ed7953\"],[0.7777777777777778,\"#fb9f3a\"],[0.8888888888888888,\"#fdca26\"],[1.0,\"#f0f921\"]]}],\"choropleth\":[{\"type\":\"choropleth\",\"colorbar\":{\"outlinewidth\":0,\"ticks\":\"\"}}],\"histogram2d\":[{\"type\":\"histogram2d\",\"colorbar\":{\"outlinewidth\":0,\"ticks\":\"\"},\"colorscale\":[[0.0,\"#0d0887\"],[0.1111111111111111,\"#46039f\"],[0.2222222222222222,\"#7201a8\"],[0.3333333333333333,\"#9c179e\"],[0.4444444444444444,\"#bd3786\"],[0.5555555555555556,\"#d8576b\"],[0.6666666666666666,\"#ed7953\"],[0.7777777777777778,\"#fb9f3a\"],[0.8888888888888888,\"#fdca26\"],[1.0,\"#f0f921\"]]}],\"heatmap\":[{\"type\":\"heatmap\",\"colorbar\":{\"outlinewidth\":0,\"ticks\":\"\"},\"colorscale\":[[0.0,\"#0d0887\"],[0.1111111111111111,\"#46039f\"],[0.2222222222222222,\"#7201a8\"],[0.3333333333333333,\"#9c179e\"],[0.4444444444444444,\"#bd3786\"],[0.5555555555555556,\"#d8576b\"],[0.6666666666666666,\"#ed7953\"],[0.7777777777777778,\"#fb9f3a\"],[0.8888888888888888,\"#fdca26\"],[1.0,\"#f0f921\"]]}],\"heatmapgl\":[{\"type\":\"heatmapgl\",\"colorbar\":{\"outlinewidth\":0,\"ticks\":\"\"},\"colorscale\":[[0.0,\"#0d0887\"],[0.1111111111111111,\"#46039f\"],[0.2222222222222222,\"#7201a8\"],[0.3333333333333333,\"#9c179e\"],[0.4444444444444444,\"#bd3786\"],[0.5555555555555556,\"#d8576b\"],[0.6666666666666666,\"#ed7953\"],[0.7777777777777778,\"#fb9f3a\"],[0.8888888888888888,\"#fdca26\"],[1.0,\"#f0f921\"]]}],\"contourcarpet\":[{\"type\":\"contourcarpet\",\"colorbar\":{\"outlinewidth\":0,\"ticks\":\"\"}}],\"contour\":[{\"type\":\"contour\",\"colorbar\":{\"outlinewidth\":0,\"ticks\":\"\"},\"colorscale\":[[0.0,\"#0d0887\"],[0.1111111111111111,\"#46039f\"],[0.2222222222222222,\"#7201a8\"],[0.3333333333333333,\"#9c179e\"],[0.4444444444444444,\"#bd3786\"],[0.5555555555555556,\"#d8576b\"],[0.6666666666666666,\"#ed7953\"],[0.7777777777777778,\"#fb9f3a\"],[0.8888888888888888,\"#fdca26\"],[1.0,\"#f0f921\"]]}],\"surface\":[{\"type\":\"surface\",\"colorbar\":{\"outlinewidth\":0,\"ticks\":\"\"},\"colorscale\":[[0.0,\"#0d0887\"],[0.1111111111111111,\"#46039f\"],[0.2222222222222222,\"#7201a8\"],[0.3333333333333333,\"#9c179e\"],[0.4444444444444444,\"#bd3786\"],[0.5555555555555556,\"#d8576b\"],[0.6666666666666666,\"#ed7953\"],[0.7777777777777778,\"#fb9f3a\"],[0.8888888888888888,\"#fdca26\"],[1.0,\"#f0f921\"]]}],\"mesh3d\":[{\"type\":\"mesh3d\",\"colorbar\":{\"outlinewidth\":0,\"ticks\":\"\"}}],\"scatter\":[{\"fillpattern\":{\"fillmode\":\"overlay\",\"size\":10,\"solidity\":0.2},\"type\":\"scatter\"}],\"parcoords\":[{\"type\":\"parcoords\",\"line\":{\"colorbar\":{\"outlinewidth\":0,\"ticks\":\"\"}}}],\"scatterpolargl\":[{\"type\":\"scatterpolargl\",\"marker\":{\"colorbar\":{\"outlinewidth\":0,\"ticks\":\"\"}}}],\"bar\":[{\"error_x\":{\"color\":\"#2a3f5f\"},\"error_y\":{\"color\":\"#2a3f5f\"},\"marker\":{\"line\":{\"color\":\"#E5ECF6\",\"width\":0.5},\"pattern\":{\"fillmode\":\"overlay\",\"size\":10,\"solidity\":0.2}},\"type\":\"bar\"}],\"scattergeo\":[{\"type\":\"scattergeo\",\"marker\":{\"colorbar\":{\"outlinewidth\":0,\"ticks\":\"\"}}}],\"scatterpolar\":[{\"type\":\"scatterpolar\",\"marker\":{\"colorbar\":{\"outlinewidth\":0,\"ticks\":\"\"}}}],\"histogram\":[{\"marker\":{\"pattern\":{\"fillmode\":\"overlay\",\"size\":10,\"solidity\":0.2}},\"type\":\"histogram\"}],\"scattergl\":[{\"type\":\"scattergl\",\"marker\":{\"colorbar\":{\"outlinewidth\":0,\"ticks\":\"\"}}}],\"scatter3d\":[{\"type\":\"scatter3d\",\"line\":{\"colorbar\":{\"outlinewidth\":0,\"ticks\":\"\"}},\"marker\":{\"colorbar\":{\"outlinewidth\":0,\"ticks\":\"\"}}}],\"scattermapbox\":[{\"type\":\"scattermapbox\",\"marker\":{\"colorbar\":{\"outlinewidth\":0,\"ticks\":\"\"}}}],\"scatterternary\":[{\"type\":\"scatterternary\",\"marker\":{\"colorbar\":{\"outlinewidth\":0,\"ticks\":\"\"}}}],\"scattercarpet\":[{\"type\":\"scattercarpet\",\"marker\":{\"colorbar\":{\"outlinewidth\":0,\"ticks\":\"\"}}}],\"carpet\":[{\"aaxis\":{\"endlinecolor\":\"#2a3f5f\",\"gridcolor\":\"white\",\"linecolor\":\"white\",\"minorgridcolor\":\"white\",\"startlinecolor\":\"#2a3f5f\"},\"baxis\":{\"endlinecolor\":\"#2a3f5f\",\"gridcolor\":\"white\",\"linecolor\":\"white\",\"minorgridcolor\":\"white\",\"startlinecolor\":\"#2a3f5f\"},\"type\":\"carpet\"}],\"table\":[{\"cells\":{\"fill\":{\"color\":\"#EBF0F8\"},\"line\":{\"color\":\"white\"}},\"header\":{\"fill\":{\"color\":\"#C8D4E3\"},\"line\":{\"color\":\"white\"}},\"type\":\"table\"}],\"barpolar\":[{\"marker\":{\"line\":{\"color\":\"#E5ECF6\",\"width\":0.5},\"pattern\":{\"fillmode\":\"overlay\",\"size\":10,\"solidity\":0.2}},\"type\":\"barpolar\"}],\"pie\":[{\"automargin\":true,\"type\":\"pie\"}]},\"layout\":{\"autotypenumbers\":\"strict\",\"colorway\":[\"#636efa\",\"#EF553B\",\"#00cc96\",\"#ab63fa\",\"#FFA15A\",\"#19d3f3\",\"#FF6692\",\"#B6E880\",\"#FF97FF\",\"#FECB52\"],\"font\":{\"color\":\"#2a3f5f\"},\"hovermode\":\"closest\",\"hoverlabel\":{\"align\":\"left\"},\"paper_bgcolor\":\"white\",\"plot_bgcolor\":\"#E5ECF6\",\"polar\":{\"bgcolor\":\"#E5ECF6\",\"angularaxis\":{\"gridcolor\":\"white\",\"linecolor\":\"white\",\"ticks\":\"\"},\"radialaxis\":{\"gridcolor\":\"white\",\"linecolor\":\"white\",\"ticks\":\"\"}},\"ternary\":{\"bgcolor\":\"#E5ECF6\",\"aaxis\":{\"gridcolor\":\"white\",\"linecolor\":\"white\",\"ticks\":\"\"},\"baxis\":{\"gridcolor\":\"white\",\"linecolor\":\"white\",\"ticks\":\"\"},\"caxis\":{\"gridcolor\":\"white\",\"linecolor\":\"white\",\"ticks\":\"\"}},\"coloraxis\":{\"colorbar\":{\"outlinewidth\":0,\"ticks\":\"\"}},\"colorscale\":{\"sequential\":[[0.0,\"#0d0887\"],[0.1111111111111111,\"#46039f\"],[0.2222222222222222,\"#7201a8\"],[0.3333333333333333,\"#9c179e\"],[0.4444444444444444,\"#bd3786\"],[0.5555555555555556,\"#d8576b\"],[0.6666666666666666,\"#ed7953\"],[0.7777777777777778,\"#fb9f3a\"],[0.8888888888888888,\"#fdca26\"],[1.0,\"#f0f921\"]],\"sequentialminus\":[[0.0,\"#0d0887\"],[0.1111111111111111,\"#46039f\"],[0.2222222222222222,\"#7201a8\"],[0.3333333333333333,\"#9c179e\"],[0.4444444444444444,\"#bd3786\"],[0.5555555555555556,\"#d8576b\"],[0.6666666666666666,\"#ed7953\"],[0.7777777777777778,\"#fb9f3a\"],[0.8888888888888888,\"#fdca26\"],[1.0,\"#f0f921\"]],\"diverging\":[[0,\"#8e0152\"],[0.1,\"#c51b7d\"],[0.2,\"#de77ae\"],[0.3,\"#f1b6da\"],[0.4,\"#fde0ef\"],[0.5,\"#f7f7f7\"],[0.6,\"#e6f5d0\"],[0.7,\"#b8e186\"],[0.8,\"#7fbc41\"],[0.9,\"#4d9221\"],[1,\"#276419\"]]},\"xaxis\":{\"gridcolor\":\"white\",\"linecolor\":\"white\",\"ticks\":\"\",\"title\":{\"standoff\":15},\"zerolinecolor\":\"white\",\"automargin\":true,\"zerolinewidth\":2},\"yaxis\":{\"gridcolor\":\"white\",\"linecolor\":\"white\",\"ticks\":\"\",\"title\":{\"standoff\":15},\"zerolinecolor\":\"white\",\"automargin\":true,\"zerolinewidth\":2},\"scene\":{\"xaxis\":{\"backgroundcolor\":\"#E5ECF6\",\"gridcolor\":\"white\",\"linecolor\":\"white\",\"showbackground\":true,\"ticks\":\"\",\"zerolinecolor\":\"white\",\"gridwidth\":2},\"yaxis\":{\"backgroundcolor\":\"#E5ECF6\",\"gridcolor\":\"white\",\"linecolor\":\"white\",\"showbackground\":true,\"ticks\":\"\",\"zerolinecolor\":\"white\",\"gridwidth\":2},\"zaxis\":{\"backgroundcolor\":\"#E5ECF6\",\"gridcolor\":\"white\",\"linecolor\":\"white\",\"showbackground\":true,\"ticks\":\"\",\"zerolinecolor\":\"white\",\"gridwidth\":2}},\"shapedefaults\":{\"line\":{\"color\":\"#2a3f5f\"}},\"annotationdefaults\":{\"arrowcolor\":\"#2a3f5f\",\"arrowhead\":0,\"arrowwidth\":1},\"geo\":{\"bgcolor\":\"white\",\"landcolor\":\"#E5ECF6\",\"subunitcolor\":\"white\",\"showland\":true,\"showlakes\":true,\"lakecolor\":\"white\"},\"title\":{\"x\":0.05},\"mapbox\":{\"style\":\"light\"}}},\"xaxis\":{\"anchor\":\"y\",\"domain\":[0.0,1.0],\"title\":{\"text\":\"Zipcode\"}},\"yaxis\":{\"anchor\":\"x\",\"domain\":[0.0,1.0],\"title\":{\"text\":\"Count\"}},\"legend\":{\"title\":{\"text\":\"Metric\"},\"tracegroupgap\":0},\"margin\":{\"t\":60},\"barmode\":\"relative\"},                        {\"responsive\": true}                    ).then(function(){\n",
       "                            \n",
       "var gd = document.getElementById('bac7f3fa-1860-4583-9d5a-6dcd19048767');\n",
       "var x = new MutationObserver(function (mutations, observer) {{\n",
       "        var display = window.getComputedStyle(gd).display;\n",
       "        if (!display || display === 'none') {{\n",
       "            console.log([gd, 'removed!']);\n",
       "            Plotly.purge(gd);\n",
       "            observer.disconnect();\n",
       "        }}\n",
       "}});\n",
       "\n",
       "// Listen for the removal of the full notebook cells\n",
       "var notebookContainer = gd.closest('#notebook-container');\n",
       "if (notebookContainer) {{\n",
       "    x.observe(notebookContainer, {childList: true});\n",
       "}}\n",
       "\n",
       "// Listen for the clearing of the current output cell\n",
       "var outputEl = gd.closest('.output');\n",
       "if (outputEl) {{\n",
       "    x.observe(outputEl, {childList: true});\n",
       "}}\n",
       "\n",
       "                        })                };                });            </script>        </div>"
      ]
     },
     "metadata": {},
     "output_type": "display_data"
    }
   ],
   "source": [
    "fig = px.bar(geo_df, x=geo_df.index, y=['Total Population', 'Total Housing Units'], \n",
    "             labels={'x':'Zipcode', 'variable':'Metric', 'value':'Count'})\n",
    "\n",
    "fig.show()"
   ]
  },
  {
   "cell_type": "markdown",
   "id": "2f18c8f2",
   "metadata": {},
   "source": [
    "Neighborhoods with high population density need more resources like housing, schools, hospitals, and public transportation."
   ]
  },
  {
   "cell_type": "markdown",
   "id": "d8c8431f",
   "metadata": {},
   "source": [
    "<b>Demographic analysis: calculate ratio to compare the number of Total Population under 18 to Total Population by Zipcode<b>"
   ]
  },
  {
   "cell_type": "code",
   "execution_count": 104,
   "id": "691e552d",
   "metadata": {},
   "outputs": [],
   "source": [
    "census_df['Minor Ratio']=census_df['Total Population under 18']/census_df['Total Population']"
   ]
  },
  {
   "cell_type": "code",
   "execution_count": 105,
   "id": "20445352",
   "metadata": {},
   "outputs": [
    {
     "name": "stdout",
     "output_type": "stream",
     "text": [
      "  Zipcode  Total Population  Total Population Male  Total Population Female  \\\n",
      "0   10029             75614                  33346                    42268   \n",
      "1   10035             38595                  19828                    18767   \n",
      "2   11201             69755                  33195                    36560   \n",
      "3   11203             78506                  36032                    42474   \n",
      "4   11204             80575                  39889                    40686   \n",
      "\n",
      "   Sex ratio (males per 100 females)  Total Population Male Margin of Error  \\\n",
      "0                               78.9                                   1810   \n",
      "1                              105.7                                   1594   \n",
      "2                               90.8                                   1663   \n",
      "3                               84.8                                   1634   \n",
      "4                               98.0                                   1940   \n",
      "\n",
      "   Total Population Male Percent  Total Population Female Margin of Error  \\\n",
      "0                           44.1                                     2329   \n",
      "1                           51.4                                     1424   \n",
      "2                           47.6                                     1598   \n",
      "3                           45.9                                     1664   \n",
      "4                           49.5                                     1882   \n",
      "\n",
      "   Total Population Female Percent  Total Population Under 5 years  \\\n",
      "0                             55.9                            3965   \n",
      "1                             48.6                            2382   \n",
      "2                             52.4                            4950   \n",
      "3                             54.1                            4037   \n",
      "4                             50.5                            7209   \n",
      "\n",
      "   Total Population under 18  Total Housing Units  Minor Ratio  \n",
      "0                      13641                37150     0.180403  \n",
      "1                       8206                16239     0.212618  \n",
      "2                      12300                35121     0.176331  \n",
      "3                      14669                32743     0.186852  \n",
      "4                      24145                27408     0.299659  \n"
     ]
    }
   ],
   "source": [
    "print(census_df.head())"
   ]
  },
  {
   "cell_type": "code",
   "execution_count": 106,
   "id": "6a91dcfb",
   "metadata": {},
   "outputs": [],
   "source": [
    "census_df = census_df.sort_values(by=[ 'Minor Ratio'], ascending=False)"
   ]
  },
  {
   "cell_type": "code",
   "execution_count": 107,
   "id": "5589ffb2",
   "metadata": {},
   "outputs": [],
   "source": [
    "# Create a bar chart of the minor ratio by Zipcode\n",
    "fig = px.bar(census_df, x='Zipcode', y='Minor Ratio', title='Minor Ratio by Zipcode')"
   ]
  },
  {
   "cell_type": "code",
   "execution_count": 108,
   "id": "8983b5b8",
   "metadata": {},
   "outputs": [
    {
     "data": {
      "application/vnd.plotly.v1+json": {
       "config": {
        "plotlyServerURL": "https://plot.ly"
       },
       "data": [
        {
         "alignmentgroup": "True",
         "hovertemplate": "Zipcode=%{x}<br>Minor Ratio=%{y}<extra></extra>",
         "legendgroup": "",
         "marker": {
          "color": "#636efa",
          "pattern": {
           "shape": ""
          }
         },
         "name": "",
         "offsetgroup": "",
         "orientation": "v",
         "showlegend": false,
         "textposition": "auto",
         "type": "bar",
         "x": [
          " 11219",
          " 11205",
          " 11204",
          " 11206",
          " 11230",
          " 11223",
          " 11218",
          " 11220",
          " 11213",
          " 11210",
          " 11231",
          " 11212",
          " 11215",
          " 11229",
          " 11236",
          " 11234",
          " 11214",
          " 10035",
          " 11233",
          " 11232",
          " 11209",
          " 11224",
          " 11217",
          " 11239",
          " 11226",
          " 11203",
          " 11228",
          " 10029",
          " 11201",
          " 11221",
          " 11235",
          " 11238",
          " 11225",
          " 11237",
          " 11216"
         ],
         "xaxis": "x",
         "y": [
          0.38844640941451836,
          0.3077763866531529,
          0.29965870307167236,
          0.27409976764611055,
          0.2729347886309491,
          0.2684832673848189,
          0.26221391745546796,
          0.25435446413211765,
          0.2345691513214043,
          0.23391038375429635,
          0.23127044219526643,
          0.23078113468085612,
          0.22460910378537507,
          0.22070300459874984,
          0.21772146839591536,
          0.21479061082955456,
          0.214238512709811,
          0.21261821479466253,
          0.20875789473684211,
          0.19973700110175213,
          0.19702835180749736,
          0.19647965255882904,
          0.18898826809153213,
          0.1888981437410757,
          0.18746598319693625,
          0.18685196035971774,
          0.18429269617159924,
          0.18040309995503478,
          0.17633144577449644,
          0.17283747643474068,
          0.17065331230663666,
          0.1694661222802212,
          0.16741911211437172,
          0.1588707797299875,
          0.1551953569653536
         ],
         "yaxis": "y"
        }
       ],
       "layout": {
        "barmode": "relative",
        "legend": {
         "tracegroupgap": 0
        },
        "template": {
         "data": {
          "bar": [
           {
            "error_x": {
             "color": "#2a3f5f"
            },
            "error_y": {
             "color": "#2a3f5f"
            },
            "marker": {
             "line": {
              "color": "#E5ECF6",
              "width": 0.5
             },
             "pattern": {
              "fillmode": "overlay",
              "size": 10,
              "solidity": 0.2
             }
            },
            "type": "bar"
           }
          ],
          "barpolar": [
           {
            "marker": {
             "line": {
              "color": "#E5ECF6",
              "width": 0.5
             },
             "pattern": {
              "fillmode": "overlay",
              "size": 10,
              "solidity": 0.2
             }
            },
            "type": "barpolar"
           }
          ],
          "carpet": [
           {
            "aaxis": {
             "endlinecolor": "#2a3f5f",
             "gridcolor": "white",
             "linecolor": "white",
             "minorgridcolor": "white",
             "startlinecolor": "#2a3f5f"
            },
            "baxis": {
             "endlinecolor": "#2a3f5f",
             "gridcolor": "white",
             "linecolor": "white",
             "minorgridcolor": "white",
             "startlinecolor": "#2a3f5f"
            },
            "type": "carpet"
           }
          ],
          "choropleth": [
           {
            "colorbar": {
             "outlinewidth": 0,
             "ticks": ""
            },
            "type": "choropleth"
           }
          ],
          "contour": [
           {
            "colorbar": {
             "outlinewidth": 0,
             "ticks": ""
            },
            "colorscale": [
             [
              0,
              "#0d0887"
             ],
             [
              0.1111111111111111,
              "#46039f"
             ],
             [
              0.2222222222222222,
              "#7201a8"
             ],
             [
              0.3333333333333333,
              "#9c179e"
             ],
             [
              0.4444444444444444,
              "#bd3786"
             ],
             [
              0.5555555555555556,
              "#d8576b"
             ],
             [
              0.6666666666666666,
              "#ed7953"
             ],
             [
              0.7777777777777778,
              "#fb9f3a"
             ],
             [
              0.8888888888888888,
              "#fdca26"
             ],
             [
              1,
              "#f0f921"
             ]
            ],
            "type": "contour"
           }
          ],
          "contourcarpet": [
           {
            "colorbar": {
             "outlinewidth": 0,
             "ticks": ""
            },
            "type": "contourcarpet"
           }
          ],
          "heatmap": [
           {
            "colorbar": {
             "outlinewidth": 0,
             "ticks": ""
            },
            "colorscale": [
             [
              0,
              "#0d0887"
             ],
             [
              0.1111111111111111,
              "#46039f"
             ],
             [
              0.2222222222222222,
              "#7201a8"
             ],
             [
              0.3333333333333333,
              "#9c179e"
             ],
             [
              0.4444444444444444,
              "#bd3786"
             ],
             [
              0.5555555555555556,
              "#d8576b"
             ],
             [
              0.6666666666666666,
              "#ed7953"
             ],
             [
              0.7777777777777778,
              "#fb9f3a"
             ],
             [
              0.8888888888888888,
              "#fdca26"
             ],
             [
              1,
              "#f0f921"
             ]
            ],
            "type": "heatmap"
           }
          ],
          "heatmapgl": [
           {
            "colorbar": {
             "outlinewidth": 0,
             "ticks": ""
            },
            "colorscale": [
             [
              0,
              "#0d0887"
             ],
             [
              0.1111111111111111,
              "#46039f"
             ],
             [
              0.2222222222222222,
              "#7201a8"
             ],
             [
              0.3333333333333333,
              "#9c179e"
             ],
             [
              0.4444444444444444,
              "#bd3786"
             ],
             [
              0.5555555555555556,
              "#d8576b"
             ],
             [
              0.6666666666666666,
              "#ed7953"
             ],
             [
              0.7777777777777778,
              "#fb9f3a"
             ],
             [
              0.8888888888888888,
              "#fdca26"
             ],
             [
              1,
              "#f0f921"
             ]
            ],
            "type": "heatmapgl"
           }
          ],
          "histogram": [
           {
            "marker": {
             "pattern": {
              "fillmode": "overlay",
              "size": 10,
              "solidity": 0.2
             }
            },
            "type": "histogram"
           }
          ],
          "histogram2d": [
           {
            "colorbar": {
             "outlinewidth": 0,
             "ticks": ""
            },
            "colorscale": [
             [
              0,
              "#0d0887"
             ],
             [
              0.1111111111111111,
              "#46039f"
             ],
             [
              0.2222222222222222,
              "#7201a8"
             ],
             [
              0.3333333333333333,
              "#9c179e"
             ],
             [
              0.4444444444444444,
              "#bd3786"
             ],
             [
              0.5555555555555556,
              "#d8576b"
             ],
             [
              0.6666666666666666,
              "#ed7953"
             ],
             [
              0.7777777777777778,
              "#fb9f3a"
             ],
             [
              0.8888888888888888,
              "#fdca26"
             ],
             [
              1,
              "#f0f921"
             ]
            ],
            "type": "histogram2d"
           }
          ],
          "histogram2dcontour": [
           {
            "colorbar": {
             "outlinewidth": 0,
             "ticks": ""
            },
            "colorscale": [
             [
              0,
              "#0d0887"
             ],
             [
              0.1111111111111111,
              "#46039f"
             ],
             [
              0.2222222222222222,
              "#7201a8"
             ],
             [
              0.3333333333333333,
              "#9c179e"
             ],
             [
              0.4444444444444444,
              "#bd3786"
             ],
             [
              0.5555555555555556,
              "#d8576b"
             ],
             [
              0.6666666666666666,
              "#ed7953"
             ],
             [
              0.7777777777777778,
              "#fb9f3a"
             ],
             [
              0.8888888888888888,
              "#fdca26"
             ],
             [
              1,
              "#f0f921"
             ]
            ],
            "type": "histogram2dcontour"
           }
          ],
          "mesh3d": [
           {
            "colorbar": {
             "outlinewidth": 0,
             "ticks": ""
            },
            "type": "mesh3d"
           }
          ],
          "parcoords": [
           {
            "line": {
             "colorbar": {
              "outlinewidth": 0,
              "ticks": ""
             }
            },
            "type": "parcoords"
           }
          ],
          "pie": [
           {
            "automargin": true,
            "type": "pie"
           }
          ],
          "scatter": [
           {
            "fillpattern": {
             "fillmode": "overlay",
             "size": 10,
             "solidity": 0.2
            },
            "type": "scatter"
           }
          ],
          "scatter3d": [
           {
            "line": {
             "colorbar": {
              "outlinewidth": 0,
              "ticks": ""
             }
            },
            "marker": {
             "colorbar": {
              "outlinewidth": 0,
              "ticks": ""
             }
            },
            "type": "scatter3d"
           }
          ],
          "scattercarpet": [
           {
            "marker": {
             "colorbar": {
              "outlinewidth": 0,
              "ticks": ""
             }
            },
            "type": "scattercarpet"
           }
          ],
          "scattergeo": [
           {
            "marker": {
             "colorbar": {
              "outlinewidth": 0,
              "ticks": ""
             }
            },
            "type": "scattergeo"
           }
          ],
          "scattergl": [
           {
            "marker": {
             "colorbar": {
              "outlinewidth": 0,
              "ticks": ""
             }
            },
            "type": "scattergl"
           }
          ],
          "scattermapbox": [
           {
            "marker": {
             "colorbar": {
              "outlinewidth": 0,
              "ticks": ""
             }
            },
            "type": "scattermapbox"
           }
          ],
          "scatterpolar": [
           {
            "marker": {
             "colorbar": {
              "outlinewidth": 0,
              "ticks": ""
             }
            },
            "type": "scatterpolar"
           }
          ],
          "scatterpolargl": [
           {
            "marker": {
             "colorbar": {
              "outlinewidth": 0,
              "ticks": ""
             }
            },
            "type": "scatterpolargl"
           }
          ],
          "scatterternary": [
           {
            "marker": {
             "colorbar": {
              "outlinewidth": 0,
              "ticks": ""
             }
            },
            "type": "scatterternary"
           }
          ],
          "surface": [
           {
            "colorbar": {
             "outlinewidth": 0,
             "ticks": ""
            },
            "colorscale": [
             [
              0,
              "#0d0887"
             ],
             [
              0.1111111111111111,
              "#46039f"
             ],
             [
              0.2222222222222222,
              "#7201a8"
             ],
             [
              0.3333333333333333,
              "#9c179e"
             ],
             [
              0.4444444444444444,
              "#bd3786"
             ],
             [
              0.5555555555555556,
              "#d8576b"
             ],
             [
              0.6666666666666666,
              "#ed7953"
             ],
             [
              0.7777777777777778,
              "#fb9f3a"
             ],
             [
              0.8888888888888888,
              "#fdca26"
             ],
             [
              1,
              "#f0f921"
             ]
            ],
            "type": "surface"
           }
          ],
          "table": [
           {
            "cells": {
             "fill": {
              "color": "#EBF0F8"
             },
             "line": {
              "color": "white"
             }
            },
            "header": {
             "fill": {
              "color": "#C8D4E3"
             },
             "line": {
              "color": "white"
             }
            },
            "type": "table"
           }
          ]
         },
         "layout": {
          "annotationdefaults": {
           "arrowcolor": "#2a3f5f",
           "arrowhead": 0,
           "arrowwidth": 1
          },
          "autotypenumbers": "strict",
          "coloraxis": {
           "colorbar": {
            "outlinewidth": 0,
            "ticks": ""
           }
          },
          "colorscale": {
           "diverging": [
            [
             0,
             "#8e0152"
            ],
            [
             0.1,
             "#c51b7d"
            ],
            [
             0.2,
             "#de77ae"
            ],
            [
             0.3,
             "#f1b6da"
            ],
            [
             0.4,
             "#fde0ef"
            ],
            [
             0.5,
             "#f7f7f7"
            ],
            [
             0.6,
             "#e6f5d0"
            ],
            [
             0.7,
             "#b8e186"
            ],
            [
             0.8,
             "#7fbc41"
            ],
            [
             0.9,
             "#4d9221"
            ],
            [
             1,
             "#276419"
            ]
           ],
           "sequential": [
            [
             0,
             "#0d0887"
            ],
            [
             0.1111111111111111,
             "#46039f"
            ],
            [
             0.2222222222222222,
             "#7201a8"
            ],
            [
             0.3333333333333333,
             "#9c179e"
            ],
            [
             0.4444444444444444,
             "#bd3786"
            ],
            [
             0.5555555555555556,
             "#d8576b"
            ],
            [
             0.6666666666666666,
             "#ed7953"
            ],
            [
             0.7777777777777778,
             "#fb9f3a"
            ],
            [
             0.8888888888888888,
             "#fdca26"
            ],
            [
             1,
             "#f0f921"
            ]
           ],
           "sequentialminus": [
            [
             0,
             "#0d0887"
            ],
            [
             0.1111111111111111,
             "#46039f"
            ],
            [
             0.2222222222222222,
             "#7201a8"
            ],
            [
             0.3333333333333333,
             "#9c179e"
            ],
            [
             0.4444444444444444,
             "#bd3786"
            ],
            [
             0.5555555555555556,
             "#d8576b"
            ],
            [
             0.6666666666666666,
             "#ed7953"
            ],
            [
             0.7777777777777778,
             "#fb9f3a"
            ],
            [
             0.8888888888888888,
             "#fdca26"
            ],
            [
             1,
             "#f0f921"
            ]
           ]
          },
          "colorway": [
           "#636efa",
           "#EF553B",
           "#00cc96",
           "#ab63fa",
           "#FFA15A",
           "#19d3f3",
           "#FF6692",
           "#B6E880",
           "#FF97FF",
           "#FECB52"
          ],
          "font": {
           "color": "#2a3f5f"
          },
          "geo": {
           "bgcolor": "white",
           "lakecolor": "white",
           "landcolor": "#E5ECF6",
           "showlakes": true,
           "showland": true,
           "subunitcolor": "white"
          },
          "hoverlabel": {
           "align": "left"
          },
          "hovermode": "closest",
          "mapbox": {
           "style": "light"
          },
          "paper_bgcolor": "white",
          "plot_bgcolor": "#E5ECF6",
          "polar": {
           "angularaxis": {
            "gridcolor": "white",
            "linecolor": "white",
            "ticks": ""
           },
           "bgcolor": "#E5ECF6",
           "radialaxis": {
            "gridcolor": "white",
            "linecolor": "white",
            "ticks": ""
           }
          },
          "scene": {
           "xaxis": {
            "backgroundcolor": "#E5ECF6",
            "gridcolor": "white",
            "gridwidth": 2,
            "linecolor": "white",
            "showbackground": true,
            "ticks": "",
            "zerolinecolor": "white"
           },
           "yaxis": {
            "backgroundcolor": "#E5ECF6",
            "gridcolor": "white",
            "gridwidth": 2,
            "linecolor": "white",
            "showbackground": true,
            "ticks": "",
            "zerolinecolor": "white"
           },
           "zaxis": {
            "backgroundcolor": "#E5ECF6",
            "gridcolor": "white",
            "gridwidth": 2,
            "linecolor": "white",
            "showbackground": true,
            "ticks": "",
            "zerolinecolor": "white"
           }
          },
          "shapedefaults": {
           "line": {
            "color": "#2a3f5f"
           }
          },
          "ternary": {
           "aaxis": {
            "gridcolor": "white",
            "linecolor": "white",
            "ticks": ""
           },
           "baxis": {
            "gridcolor": "white",
            "linecolor": "white",
            "ticks": ""
           },
           "bgcolor": "#E5ECF6",
           "caxis": {
            "gridcolor": "white",
            "linecolor": "white",
            "ticks": ""
           }
          },
          "title": {
           "x": 0.05
          },
          "xaxis": {
           "automargin": true,
           "gridcolor": "white",
           "linecolor": "white",
           "ticks": "",
           "title": {
            "standoff": 15
           },
           "zerolinecolor": "white",
           "zerolinewidth": 2
          },
          "yaxis": {
           "automargin": true,
           "gridcolor": "white",
           "linecolor": "white",
           "ticks": "",
           "title": {
            "standoff": 15
           },
           "zerolinecolor": "white",
           "zerolinewidth": 2
          }
         }
        },
        "title": {
         "text": "Minor Ratio by Zipcode"
        },
        "xaxis": {
         "anchor": "y",
         "domain": [
          0,
          1
         ],
         "title": {
          "text": "Zipcode"
         }
        },
        "yaxis": {
         "anchor": "x",
         "domain": [
          0,
          1
         ],
         "title": {
          "text": "Minor Ratio"
         }
        }
       }
      },
      "text/html": [
       "<div>                            <div id=\"f965b17e-a1e6-4028-a474-56cfb96d775f\" class=\"plotly-graph-div\" style=\"height:525px; width:100%;\"></div>            <script type=\"text/javascript\">                require([\"plotly\"], function(Plotly) {                    window.PLOTLYENV=window.PLOTLYENV || {};                                    if (document.getElementById(\"f965b17e-a1e6-4028-a474-56cfb96d775f\")) {                    Plotly.newPlot(                        \"f965b17e-a1e6-4028-a474-56cfb96d775f\",                        [{\"alignmentgroup\":\"True\",\"hovertemplate\":\"Zipcode=%{x}<br>Minor Ratio=%{y}<extra></extra>\",\"legendgroup\":\"\",\"marker\":{\"color\":\"#636efa\",\"pattern\":{\"shape\":\"\"}},\"name\":\"\",\"offsetgroup\":\"\",\"orientation\":\"v\",\"showlegend\":false,\"textposition\":\"auto\",\"x\":[\" 11219\",\" 11205\",\" 11204\",\" 11206\",\" 11230\",\" 11223\",\" 11218\",\" 11220\",\" 11213\",\" 11210\",\" 11231\",\" 11212\",\" 11215\",\" 11229\",\" 11236\",\" 11234\",\" 11214\",\" 10035\",\" 11233\",\" 11232\",\" 11209\",\" 11224\",\" 11217\",\" 11239\",\" 11226\",\" 11203\",\" 11228\",\" 10029\",\" 11201\",\" 11221\",\" 11235\",\" 11238\",\" 11225\",\" 11237\",\" 11216\"],\"xaxis\":\"x\",\"y\":[0.38844640941451836,0.3077763866531529,0.29965870307167236,0.27409976764611055,0.2729347886309491,0.2684832673848189,0.26221391745546796,0.25435446413211765,0.2345691513214043,0.23391038375429635,0.23127044219526643,0.23078113468085612,0.22460910378537507,0.22070300459874984,0.21772146839591536,0.21479061082955456,0.214238512709811,0.21261821479466253,0.20875789473684211,0.19973700110175213,0.19702835180749736,0.19647965255882904,0.18898826809153213,0.1888981437410757,0.18746598319693625,0.18685196035971774,0.18429269617159924,0.18040309995503478,0.17633144577449644,0.17283747643474068,0.17065331230663666,0.1694661222802212,0.16741911211437172,0.1588707797299875,0.1551953569653536],\"yaxis\":\"y\",\"type\":\"bar\"}],                        {\"template\":{\"data\":{\"histogram2dcontour\":[{\"type\":\"histogram2dcontour\",\"colorbar\":{\"outlinewidth\":0,\"ticks\":\"\"},\"colorscale\":[[0.0,\"#0d0887\"],[0.1111111111111111,\"#46039f\"],[0.2222222222222222,\"#7201a8\"],[0.3333333333333333,\"#9c179e\"],[0.4444444444444444,\"#bd3786\"],[0.5555555555555556,\"#d8576b\"],[0.6666666666666666,\"#ed7953\"],[0.7777777777777778,\"#fb9f3a\"],[0.8888888888888888,\"#fdca26\"],[1.0,\"#f0f921\"]]}],\"choropleth\":[{\"type\":\"choropleth\",\"colorbar\":{\"outlinewidth\":0,\"ticks\":\"\"}}],\"histogram2d\":[{\"type\":\"histogram2d\",\"colorbar\":{\"outlinewidth\":0,\"ticks\":\"\"},\"colorscale\":[[0.0,\"#0d0887\"],[0.1111111111111111,\"#46039f\"],[0.2222222222222222,\"#7201a8\"],[0.3333333333333333,\"#9c179e\"],[0.4444444444444444,\"#bd3786\"],[0.5555555555555556,\"#d8576b\"],[0.6666666666666666,\"#ed7953\"],[0.7777777777777778,\"#fb9f3a\"],[0.8888888888888888,\"#fdca26\"],[1.0,\"#f0f921\"]]}],\"heatmap\":[{\"type\":\"heatmap\",\"colorbar\":{\"outlinewidth\":0,\"ticks\":\"\"},\"colorscale\":[[0.0,\"#0d0887\"],[0.1111111111111111,\"#46039f\"],[0.2222222222222222,\"#7201a8\"],[0.3333333333333333,\"#9c179e\"],[0.4444444444444444,\"#bd3786\"],[0.5555555555555556,\"#d8576b\"],[0.6666666666666666,\"#ed7953\"],[0.7777777777777778,\"#fb9f3a\"],[0.8888888888888888,\"#fdca26\"],[1.0,\"#f0f921\"]]}],\"heatmapgl\":[{\"type\":\"heatmapgl\",\"colorbar\":{\"outlinewidth\":0,\"ticks\":\"\"},\"colorscale\":[[0.0,\"#0d0887\"],[0.1111111111111111,\"#46039f\"],[0.2222222222222222,\"#7201a8\"],[0.3333333333333333,\"#9c179e\"],[0.4444444444444444,\"#bd3786\"],[0.5555555555555556,\"#d8576b\"],[0.6666666666666666,\"#ed7953\"],[0.7777777777777778,\"#fb9f3a\"],[0.8888888888888888,\"#fdca26\"],[1.0,\"#f0f921\"]]}],\"contourcarpet\":[{\"type\":\"contourcarpet\",\"colorbar\":{\"outlinewidth\":0,\"ticks\":\"\"}}],\"contour\":[{\"type\":\"contour\",\"colorbar\":{\"outlinewidth\":0,\"ticks\":\"\"},\"colorscale\":[[0.0,\"#0d0887\"],[0.1111111111111111,\"#46039f\"],[0.2222222222222222,\"#7201a8\"],[0.3333333333333333,\"#9c179e\"],[0.4444444444444444,\"#bd3786\"],[0.5555555555555556,\"#d8576b\"],[0.6666666666666666,\"#ed7953\"],[0.7777777777777778,\"#fb9f3a\"],[0.8888888888888888,\"#fdca26\"],[1.0,\"#f0f921\"]]}],\"surface\":[{\"type\":\"surface\",\"colorbar\":{\"outlinewidth\":0,\"ticks\":\"\"},\"colorscale\":[[0.0,\"#0d0887\"],[0.1111111111111111,\"#46039f\"],[0.2222222222222222,\"#7201a8\"],[0.3333333333333333,\"#9c179e\"],[0.4444444444444444,\"#bd3786\"],[0.5555555555555556,\"#d8576b\"],[0.6666666666666666,\"#ed7953\"],[0.7777777777777778,\"#fb9f3a\"],[0.8888888888888888,\"#fdca26\"],[1.0,\"#f0f921\"]]}],\"mesh3d\":[{\"type\":\"mesh3d\",\"colorbar\":{\"outlinewidth\":0,\"ticks\":\"\"}}],\"scatter\":[{\"fillpattern\":{\"fillmode\":\"overlay\",\"size\":10,\"solidity\":0.2},\"type\":\"scatter\"}],\"parcoords\":[{\"type\":\"parcoords\",\"line\":{\"colorbar\":{\"outlinewidth\":0,\"ticks\":\"\"}}}],\"scatterpolargl\":[{\"type\":\"scatterpolargl\",\"marker\":{\"colorbar\":{\"outlinewidth\":0,\"ticks\":\"\"}}}],\"bar\":[{\"error_x\":{\"color\":\"#2a3f5f\"},\"error_y\":{\"color\":\"#2a3f5f\"},\"marker\":{\"line\":{\"color\":\"#E5ECF6\",\"width\":0.5},\"pattern\":{\"fillmode\":\"overlay\",\"size\":10,\"solidity\":0.2}},\"type\":\"bar\"}],\"scattergeo\":[{\"type\":\"scattergeo\",\"marker\":{\"colorbar\":{\"outlinewidth\":0,\"ticks\":\"\"}}}],\"scatterpolar\":[{\"type\":\"scatterpolar\",\"marker\":{\"colorbar\":{\"outlinewidth\":0,\"ticks\":\"\"}}}],\"histogram\":[{\"marker\":{\"pattern\":{\"fillmode\":\"overlay\",\"size\":10,\"solidity\":0.2}},\"type\":\"histogram\"}],\"scattergl\":[{\"type\":\"scattergl\",\"marker\":{\"colorbar\":{\"outlinewidth\":0,\"ticks\":\"\"}}}],\"scatter3d\":[{\"type\":\"scatter3d\",\"line\":{\"colorbar\":{\"outlinewidth\":0,\"ticks\":\"\"}},\"marker\":{\"colorbar\":{\"outlinewidth\":0,\"ticks\":\"\"}}}],\"scattermapbox\":[{\"type\":\"scattermapbox\",\"marker\":{\"colorbar\":{\"outlinewidth\":0,\"ticks\":\"\"}}}],\"scatterternary\":[{\"type\":\"scatterternary\",\"marker\":{\"colorbar\":{\"outlinewidth\":0,\"ticks\":\"\"}}}],\"scattercarpet\":[{\"type\":\"scattercarpet\",\"marker\":{\"colorbar\":{\"outlinewidth\":0,\"ticks\":\"\"}}}],\"carpet\":[{\"aaxis\":{\"endlinecolor\":\"#2a3f5f\",\"gridcolor\":\"white\",\"linecolor\":\"white\",\"minorgridcolor\":\"white\",\"startlinecolor\":\"#2a3f5f\"},\"baxis\":{\"endlinecolor\":\"#2a3f5f\",\"gridcolor\":\"white\",\"linecolor\":\"white\",\"minorgridcolor\":\"white\",\"startlinecolor\":\"#2a3f5f\"},\"type\":\"carpet\"}],\"table\":[{\"cells\":{\"fill\":{\"color\":\"#EBF0F8\"},\"line\":{\"color\":\"white\"}},\"header\":{\"fill\":{\"color\":\"#C8D4E3\"},\"line\":{\"color\":\"white\"}},\"type\":\"table\"}],\"barpolar\":[{\"marker\":{\"line\":{\"color\":\"#E5ECF6\",\"width\":0.5},\"pattern\":{\"fillmode\":\"overlay\",\"size\":10,\"solidity\":0.2}},\"type\":\"barpolar\"}],\"pie\":[{\"automargin\":true,\"type\":\"pie\"}]},\"layout\":{\"autotypenumbers\":\"strict\",\"colorway\":[\"#636efa\",\"#EF553B\",\"#00cc96\",\"#ab63fa\",\"#FFA15A\",\"#19d3f3\",\"#FF6692\",\"#B6E880\",\"#FF97FF\",\"#FECB52\"],\"font\":{\"color\":\"#2a3f5f\"},\"hovermode\":\"closest\",\"hoverlabel\":{\"align\":\"left\"},\"paper_bgcolor\":\"white\",\"plot_bgcolor\":\"#E5ECF6\",\"polar\":{\"bgcolor\":\"#E5ECF6\",\"angularaxis\":{\"gridcolor\":\"white\",\"linecolor\":\"white\",\"ticks\":\"\"},\"radialaxis\":{\"gridcolor\":\"white\",\"linecolor\":\"white\",\"ticks\":\"\"}},\"ternary\":{\"bgcolor\":\"#E5ECF6\",\"aaxis\":{\"gridcolor\":\"white\",\"linecolor\":\"white\",\"ticks\":\"\"},\"baxis\":{\"gridcolor\":\"white\",\"linecolor\":\"white\",\"ticks\":\"\"},\"caxis\":{\"gridcolor\":\"white\",\"linecolor\":\"white\",\"ticks\":\"\"}},\"coloraxis\":{\"colorbar\":{\"outlinewidth\":0,\"ticks\":\"\"}},\"colorscale\":{\"sequential\":[[0.0,\"#0d0887\"],[0.1111111111111111,\"#46039f\"],[0.2222222222222222,\"#7201a8\"],[0.3333333333333333,\"#9c179e\"],[0.4444444444444444,\"#bd3786\"],[0.5555555555555556,\"#d8576b\"],[0.6666666666666666,\"#ed7953\"],[0.7777777777777778,\"#fb9f3a\"],[0.8888888888888888,\"#fdca26\"],[1.0,\"#f0f921\"]],\"sequentialminus\":[[0.0,\"#0d0887\"],[0.1111111111111111,\"#46039f\"],[0.2222222222222222,\"#7201a8\"],[0.3333333333333333,\"#9c179e\"],[0.4444444444444444,\"#bd3786\"],[0.5555555555555556,\"#d8576b\"],[0.6666666666666666,\"#ed7953\"],[0.7777777777777778,\"#fb9f3a\"],[0.8888888888888888,\"#fdca26\"],[1.0,\"#f0f921\"]],\"diverging\":[[0,\"#8e0152\"],[0.1,\"#c51b7d\"],[0.2,\"#de77ae\"],[0.3,\"#f1b6da\"],[0.4,\"#fde0ef\"],[0.5,\"#f7f7f7\"],[0.6,\"#e6f5d0\"],[0.7,\"#b8e186\"],[0.8,\"#7fbc41\"],[0.9,\"#4d9221\"],[1,\"#276419\"]]},\"xaxis\":{\"gridcolor\":\"white\",\"linecolor\":\"white\",\"ticks\":\"\",\"title\":{\"standoff\":15},\"zerolinecolor\":\"white\",\"automargin\":true,\"zerolinewidth\":2},\"yaxis\":{\"gridcolor\":\"white\",\"linecolor\":\"white\",\"ticks\":\"\",\"title\":{\"standoff\":15},\"zerolinecolor\":\"white\",\"automargin\":true,\"zerolinewidth\":2},\"scene\":{\"xaxis\":{\"backgroundcolor\":\"#E5ECF6\",\"gridcolor\":\"white\",\"linecolor\":\"white\",\"showbackground\":true,\"ticks\":\"\",\"zerolinecolor\":\"white\",\"gridwidth\":2},\"yaxis\":{\"backgroundcolor\":\"#E5ECF6\",\"gridcolor\":\"white\",\"linecolor\":\"white\",\"showbackground\":true,\"ticks\":\"\",\"zerolinecolor\":\"white\",\"gridwidth\":2},\"zaxis\":{\"backgroundcolor\":\"#E5ECF6\",\"gridcolor\":\"white\",\"linecolor\":\"white\",\"showbackground\":true,\"ticks\":\"\",\"zerolinecolor\":\"white\",\"gridwidth\":2}},\"shapedefaults\":{\"line\":{\"color\":\"#2a3f5f\"}},\"annotationdefaults\":{\"arrowcolor\":\"#2a3f5f\",\"arrowhead\":0,\"arrowwidth\":1},\"geo\":{\"bgcolor\":\"white\",\"landcolor\":\"#E5ECF6\",\"subunitcolor\":\"white\",\"showland\":true,\"showlakes\":true,\"lakecolor\":\"white\"},\"title\":{\"x\":0.05},\"mapbox\":{\"style\":\"light\"}}},\"xaxis\":{\"anchor\":\"y\",\"domain\":[0.0,1.0],\"title\":{\"text\":\"Zipcode\"}},\"yaxis\":{\"anchor\":\"x\",\"domain\":[0.0,1.0],\"title\":{\"text\":\"Minor Ratio\"}},\"legend\":{\"tracegroupgap\":0},\"title\":{\"text\":\"Minor Ratio by Zipcode\"},\"barmode\":\"relative\"},                        {\"responsive\": true}                    ).then(function(){\n",
       "                            \n",
       "var gd = document.getElementById('f965b17e-a1e6-4028-a474-56cfb96d775f');\n",
       "var x = new MutationObserver(function (mutations, observer) {{\n",
       "        var display = window.getComputedStyle(gd).display;\n",
       "        if (!display || display === 'none') {{\n",
       "            console.log([gd, 'removed!']);\n",
       "            Plotly.purge(gd);\n",
       "            observer.disconnect();\n",
       "        }}\n",
       "}});\n",
       "\n",
       "// Listen for the removal of the full notebook cells\n",
       "var notebookContainer = gd.closest('#notebook-container');\n",
       "if (notebookContainer) {{\n",
       "    x.observe(notebookContainer, {childList: true});\n",
       "}}\n",
       "\n",
       "// Listen for the clearing of the current output cell\n",
       "var outputEl = gd.closest('.output');\n",
       "if (outputEl) {{\n",
       "    x.observe(outputEl, {childList: true});\n",
       "}}\n",
       "\n",
       "                        })                };                });            </script>        </div>"
      ]
     },
     "metadata": {},
     "output_type": "display_data"
    }
   ],
   "source": [
    "fig.show()"
   ]
  },
  {
   "cell_type": "markdown",
   "id": "af769732",
   "metadata": {},
   "source": [
    "Neighborhoods with higher minor ratio require more investment in education, childcare, and other social services for young people."
   ]
  },
  {
   "cell_type": "code",
   "execution_count": 109,
   "id": "e7120263",
   "metadata": {},
   "outputs": [],
   "source": [
    "# Write the DataFrame to a new CSV file\n",
    "\n",
    "census_df.to_csv('new_census_data_2022.csv')"
   ]
  }
 ],
 "metadata": {
  "kernelspec": {
   "display_name": "Python 3 (ipykernel)",
   "language": "python",
   "name": "python3"
  },
  "language_info": {
   "codemirror_mode": {
    "name": "ipython",
    "version": 3
   },
   "file_extension": ".py",
   "mimetype": "text/x-python",
   "name": "python",
   "nbconvert_exporter": "python",
   "pygments_lexer": "ipython3",
   "version": "3.10.9"
  }
 },
 "nbformat": 4,
 "nbformat_minor": 5
}
