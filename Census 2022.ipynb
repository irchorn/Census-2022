{
 "cells": [
  {
   "cell_type": "code",
   "execution_count": 55,
   "id": "74b73de5",
   "metadata": {},
   "outputs": [],
   "source": [
    "import pandas as pd\n",
    "import plotly.express as px\n",
    "import plotly.graph_objects as go"
   ]
  },
  {
   "cell_type": "code",
   "execution_count": 24,
   "id": "0f710edd",
   "metadata": {},
   "outputs": [],
   "source": [
    "census_df= pd.read_csv('census_data_2022.csv')"
   ]
  },
  {
   "cell_type": "code",
   "execution_count": 25,
   "id": "55744ed0",
   "metadata": {},
   "outputs": [
    {
     "data": {
      "text/plain": [
       "pandas.core.frame.DataFrame"
      ]
     },
     "execution_count": 25,
     "metadata": {},
     "output_type": "execute_result"
    }
   ],
   "source": [
    "type(census_df)"
   ]
  },
  {
   "cell_type": "code",
   "execution_count": 26,
   "id": "b9b95ba2",
   "metadata": {},
   "outputs": [
    {
     "name": "stdout",
     "output_type": "stream",
     "text": [
      "    DP05_0001E  DP05_0001EA  DP05_0001M  DP05_0001MA  DP05_0001PE  \\\n",
      "0        75614          NaN        3164          NaN        75614   \n",
      "1        38595          NaN        2256          NaN        38595   \n",
      "2        69755          NaN        2608          NaN        69755   \n",
      "3        78506          NaN        2674          NaN        78506   \n",
      "4        80575          NaN        3431          NaN        80575   \n",
      "5        50319          NaN        2405          NaN        50319   \n",
      "6        89949          NaN        3787          NaN        89949   \n",
      "7        71812          NaN        2099          NaN        71812   \n",
      "8        63426          NaN        2543          NaN        63426   \n",
      "9        84006          NaN        4268          NaN        84006   \n",
      "10       69131          NaN        2761          NaN        69131   \n",
      "11       90796          NaN        3329          NaN        90796   \n",
      "12       72014          NaN        2662          NaN        72014   \n",
      "13       62373          NaN        2591          NaN        62373   \n",
      "14       43045          NaN        1831          NaN        43045   \n",
      "15       73318          NaN        3415          NaN        73318   \n",
      "16       92283          NaN        3961          NaN        92283   \n",
      "17       93008          NaN        4021          NaN        93008   \n",
      "18       91236          NaN        4062          NaN        91236   \n",
      "19       80113          NaN        3288          NaN        80113   \n",
      "20       47893          NaN        2183          NaN        47893   \n",
      "21       58476          NaN        3018          NaN        58476   \n",
      "22      101053          NaN        4193          NaN       101053   \n",
      "23       44196          NaN        2179          NaN        44196   \n",
      "24       81109          NaN        2814          NaN        81109   \n",
      "25       90245          NaN        2834          NaN        90245   \n",
      "26       38829          NaN        2393          NaN        38829   \n",
      "27       28137          NaN        1833          NaN        28137   \n",
      "28       83125          NaN        3181          NaN        83125   \n",
      "29       89976          NaN        2620          NaN        89976   \n",
      "30       83069          NaN        2433          NaN        83069   \n",
      "31      100082          NaN        3175          NaN       100082   \n",
      "32       47183          NaN        2242          NaN        47183   \n",
      "33       58047          NaN        2189          NaN        58047   \n",
      "34       16808          NaN        1347          NaN        16808   \n",
      "\n",
      "    DP05_0001PEA  DP05_0001PM DP05_0001PMA  DP05_0002E  DP05_0002EA  ...  \\\n",
      "0            NaN   -888888888          (X)       33346          NaN  ...   \n",
      "1            NaN   -888888888          (X)       19828          NaN  ...   \n",
      "2            NaN   -888888888          (X)       33195          NaN  ...   \n",
      "3            NaN   -888888888          (X)       36032          NaN  ...   \n",
      "4            NaN   -888888888          (X)       39889          NaN  ...   \n",
      "5            NaN   -888888888          (X)       23065          NaN  ...   \n",
      "6            NaN   -888888888          (X)       42868          NaN  ...   \n",
      "7            NaN   -888888888          (X)       34635          NaN  ...   \n",
      "8            NaN   -888888888          (X)       31315          NaN  ...   \n",
      "9            NaN   -888888888          (X)       35682          NaN  ...   \n",
      "10           NaN   -888888888          (X)       32227          NaN  ...   \n",
      "11           NaN   -888888888          (X)       44699          NaN  ...   \n",
      "12           NaN   -888888888          (X)       35708          NaN  ...   \n",
      "13           NaN   -888888888          (X)       28654          NaN  ...   \n",
      "14           NaN   -888888888          (X)       19759          NaN  ...   \n",
      "15           NaN   -888888888          (X)       37486          NaN  ...   \n",
      "16           NaN   -888888888          (X)       47258          NaN  ...   \n",
      "17           NaN   -888888888          (X)       46378          NaN  ...   \n",
      "18           NaN   -888888888          (X)       42539          NaN  ...   \n",
      "19           NaN   -888888888          (X)       38338          NaN  ...   \n",
      "20           NaN   -888888888          (X)       22112          NaN  ...   \n",
      "21           NaN   -888888888          (X)       27373          NaN  ...   \n",
      "22           NaN   -888888888          (X)       46615          NaN  ...   \n",
      "23           NaN   -888888888          (X)       22098          NaN  ...   \n",
      "24           NaN   -888888888          (X)       39428          NaN  ...   \n",
      "25           NaN   -888888888          (X)       44876          NaN  ...   \n",
      "26           NaN   -888888888          (X)       18277          NaN  ...   \n",
      "27           NaN   -888888888          (X)       15242          NaN  ...   \n",
      "28           NaN   -888888888          (X)       37663          NaN  ...   \n",
      "29           NaN   -888888888          (X)       41815          NaN  ...   \n",
      "30           NaN   -888888888          (X)       40192          NaN  ...   \n",
      "31           NaN   -888888888          (X)       45553          NaN  ...   \n",
      "32           NaN   -888888888          (X)       24514          NaN  ...   \n",
      "33           NaN   -888888888          (X)       26680          NaN  ...   \n",
      "34           NaN   -888888888          (X)        6797          NaN  ...   \n",
      "\n",
      "    DP05_0091EA  DP05_0091M  DP05_0091MA  DP05_0091PE  DP05_0091PEA  \\\n",
      "0           NaN        1845          NaN         57.6           NaN   \n",
      "1           NaN        1001          NaN         49.0           NaN   \n",
      "2           NaN        1226          NaN         54.1           NaN   \n",
      "3           NaN        1228          NaN         55.7           NaN   \n",
      "4           NaN        1042          NaN         51.7           NaN   \n",
      "5           NaN        1063          NaN         56.9           NaN   \n",
      "6           NaN        1525          NaN         55.5           NaN   \n",
      "7           NaN         999          NaN         53.4           NaN   \n",
      "8           NaN        1103          NaN         52.3           NaN   \n",
      "9           NaN        1519          NaN         60.8           NaN   \n",
      "10          NaN        1409          NaN         56.6           NaN   \n",
      "11          NaN        1178          NaN         52.3           NaN   \n",
      "12          NaN        1203          NaN         51.2           NaN   \n",
      "13          NaN        1398          NaN         53.6           NaN   \n",
      "14          NaN         975          NaN         55.5           NaN   \n",
      "15          NaN        1131          NaN         49.4           NaN   \n",
      "16          NaN        1119          NaN         51.4           NaN   \n",
      "17          NaN        1181          NaN         50.7           NaN   \n",
      "18          NaN        1707          NaN         53.8           NaN   \n",
      "19          NaN        1418          NaN         54.0           NaN   \n",
      "20          NaN         990          NaN         56.0           NaN   \n",
      "21          NaN        1469          NaN         53.6           NaN   \n",
      "22          NaN        1779          NaN         56.3           NaN   \n",
      "23          NaN         918          NaN         51.8           NaN   \n",
      "24          NaN        1151          NaN         53.2           NaN   \n",
      "25          NaN        1157          NaN         51.7           NaN   \n",
      "26          NaN         997          NaN         53.6           NaN   \n",
      "27          NaN         706          NaN         45.6           NaN   \n",
      "28          NaN        1524          NaN         55.9           NaN   \n",
      "29          NaN        1276          NaN         55.1           NaN   \n",
      "30          NaN        1129          NaN         52.5           NaN   \n",
      "31          NaN        1493          NaN         56.0           NaN   \n",
      "32          NaN        1031          NaN         47.5           NaN   \n",
      "33          NaN        1141          NaN         54.6           NaN   \n",
      "34          NaN         783          NaN         61.2           NaN   \n",
      "\n",
      "    DP05_0091PM  DP05_0091PMA          GEO_ID         NAME           ucgid  \n",
      "0           2.0           NaN  860Z200US10029  ZCTA5 10029  860Z200US10029  \n",
      "1           3.3           NaN  860Z200US10035  ZCTA5 10035  860Z200US10035  \n",
      "2           1.4           NaN  860Z200US11201  ZCTA5 11201  860Z200US11201  \n",
      "3           1.2           NaN  860Z200US11203  ZCTA5 11203  860Z200US11203  \n",
      "4           1.5           NaN  860Z200US11204  ZCTA5 11204  860Z200US11204  \n",
      "5           1.9           NaN  860Z200US11205  ZCTA5 11205  860Z200US11205  \n",
      "6           1.6           NaN  860Z200US11206  ZCTA5 11206  860Z200US11206  \n",
      "7           1.2           NaN  860Z200US11209  ZCTA5 11209  860Z200US11209  \n",
      "8           1.6           NaN  860Z200US11210  ZCTA5 11210  860Z200US11210  \n",
      "9           1.8           NaN  860Z200US11212  ZCTA5 11212  860Z200US11212  \n",
      "10          2.1           NaN  860Z200US11213  ZCTA5 11213  860Z200US11213  \n",
      "11          1.2           NaN  860Z200US11214  ZCTA5 11214  860Z200US11214  \n",
      "12          1.5           NaN  860Z200US11215  ZCTA5 11215  860Z200US11215  \n",
      "13          1.7           NaN  860Z200US11216  ZCTA5 11216  860Z200US11216  \n",
      "14          1.6           NaN  860Z200US11217  ZCTA5 11217  860Z200US11217  \n",
      "15          1.7           NaN  860Z200US11218  ZCTA5 11218  860Z200US11218  \n",
      "16          1.4           NaN  860Z200US11219  ZCTA5 11219  860Z200US11219  \n",
      "17          1.6           NaN  860Z200US11220  ZCTA5 11220  860Z200US11220  \n",
      "18          1.7           NaN  860Z200US11221  ZCTA5 11221  860Z200US11221  \n",
      "19          1.5           NaN  860Z200US11223  ZCTA5 11223  860Z200US11223  \n",
      "20          2.2           NaN  860Z200US11224  ZCTA5 11224  860Z200US11224  \n",
      "21          1.9           NaN  860Z200US11225  ZCTA5 11225  860Z200US11225  \n",
      "22          1.6           NaN  860Z200US11226  ZCTA5 11226  860Z200US11226  \n",
      "23          1.7           NaN  860Z200US11228  ZCTA5 11228  860Z200US11228  \n",
      "24          1.3           NaN  860Z200US11229  ZCTA5 11229  860Z200US11229  \n",
      "25          1.3           NaN  860Z200US11230  ZCTA5 11230  860Z200US11230  \n",
      "26          2.0           NaN  860Z200US11231  ZCTA5 11231  860Z200US11231  \n",
      "27          2.8           NaN  860Z200US11232  ZCTA5 11232  860Z200US11232  \n",
      "28          1.6           NaN  860Z200US11233  ZCTA5 11233  860Z200US11233  \n",
      "29          0.9           NaN  860Z200US11234  ZCTA5 11234  860Z200US11234  \n",
      "30          1.4           NaN  860Z200US11235  ZCTA5 11235  860Z200US11235  \n",
      "31          1.2           NaN  860Z200US11236  ZCTA5 11236  860Z200US11236  \n",
      "32          2.5           NaN  860Z200US11237  ZCTA5 11237  860Z200US11237  \n",
      "33          1.7           NaN  860Z200US11238  ZCTA5 11238  860Z200US11238  \n",
      "34          3.9           NaN  860Z200US11239  ZCTA5 11239  860Z200US11239  \n",
      "\n",
      "[35 rows x 731 columns]\n"
     ]
    }
   ],
   "source": [
    "print(census_df)"
   ]
  },
  {
   "cell_type": "code",
   "execution_count": 27,
   "id": "ef8f2366",
   "metadata": {},
   "outputs": [
    {
     "name": "stdout",
     "output_type": "stream",
     "text": [
      "Index(['DP05_0001E', 'DP05_0001EA', 'DP05_0001M', 'DP05_0001MA', 'DP05_0001PE',\n",
      "       'DP05_0001PEA', 'DP05_0001PM', 'DP05_0001PMA', 'DP05_0002E',\n",
      "       'DP05_0002EA',\n",
      "       ...\n",
      "       'DP05_0091EA', 'DP05_0091M', 'DP05_0091MA', 'DP05_0091PE',\n",
      "       'DP05_0091PEA', 'DP05_0091PM', 'DP05_0091PMA', 'GEO_ID', 'NAME',\n",
      "       'ucgid'],\n",
      "      dtype='object', length=731)\n"
     ]
    }
   ],
   "source": [
    "# Print the original column names\n",
    "print(census_df.columns)\n"
   ]
  },
  {
   "cell_type": "code",
   "execution_count": 28,
   "id": "0cec5805",
   "metadata": {},
   "outputs": [],
   "source": [
    "# Rename the columns\n",
    "census_df = census_df.rename(columns={\n",
    "    'NAME': 'Zipcode',\n",
    "    'DP05_0001E': 'Total Population',\n",
    "    'DP05_0002E':'Total Population Male',\n",
    "    'DP05_0001M': 'Total Population Margin of Error',\n",
    "    'DP05_0003E':'Total Population Female',\n",
    "    'DP05_0004E': 'Sex ratio (males per 100 females)',\n",
    "    'DP05_0002M': 'Total Population Male Margin of Error',\n",
    "    'DP05_0002PE':'Total Population Male Percent',\n",
    "    #'DP05_0002PM':'Male Percent Margin of error',\n",
    "    'DP05_0003M':'Total Population Female Margin of Error',\n",
    "    'DP05_0003PE':'Total Population Female Percent',\n",
    "    #'DP05_0003PM':'Female Percent Margin of error',\n",
    "    'DP05_0005E': 'Total Population Under 5 years',\n",
    "    'DP05_0019E': 'Total Population under 18',\n",
    "    'DP05_0088E': 'Total Housing Units'\n",
    "\n",
    "    # Add more columns here as needed\n",
    "})"
   ]
  },
  {
   "cell_type": "code",
   "execution_count": 29,
   "id": "9b8938c4",
   "metadata": {},
   "outputs": [
    {
     "name": "stdout",
     "output_type": "stream",
     "text": [
      "New column names:\n",
      "Index(['Total Population', 'DP05_0001EA', 'Total Population Margin of Error',\n",
      "       'DP05_0001MA', 'DP05_0001PE', 'DP05_0001PEA', 'DP05_0001PM',\n",
      "       'DP05_0001PMA', 'Total Population Male', 'DP05_0002EA',\n",
      "       ...\n",
      "       'DP05_0091EA', 'DP05_0091M', 'DP05_0091MA', 'DP05_0091PE',\n",
      "       'DP05_0091PEA', 'DP05_0091PM', 'DP05_0091PMA', 'GEO_ID', 'Zipcode',\n",
      "       'ucgid'],\n",
      "      dtype='object', length=731)\n"
     ]
    }
   ],
   "source": [
    "# Print the new column names\n",
    "print(\"New column names:\")\n",
    "print(census_df.columns)"
   ]
  },
  {
   "cell_type": "code",
   "execution_count": 30,
   "id": "982c117a",
   "metadata": {},
   "outputs": [],
   "source": [
    "census_df=census_df[['Zipcode','Total Population', 'Total Population Male', 'Total Population Female', 'Sex ratio (males per 100 females)','Total Population Male Margin of Error','Total Population Male Percent', 'Total Population Female Margin of Error','Total Population Female Percent', 'Total Population Under 5 years','Total Population under 18','Total Housing Units'      ]]"
   ]
  },
  {
   "cell_type": "code",
   "execution_count": 31,
   "id": "f3487d85",
   "metadata": {},
   "outputs": [
    {
     "name": "stdout",
     "output_type": "stream",
     "text": [
      "        Zipcode  Total Population  Total Population Male  \\\n",
      "0   ZCTA5 10029             75614                  33346   \n",
      "1   ZCTA5 10035             38595                  19828   \n",
      "2   ZCTA5 11201             69755                  33195   \n",
      "3   ZCTA5 11203             78506                  36032   \n",
      "4   ZCTA5 11204             80575                  39889   \n",
      "5   ZCTA5 11205             50319                  23065   \n",
      "6   ZCTA5 11206             89949                  42868   \n",
      "7   ZCTA5 11209             71812                  34635   \n",
      "8   ZCTA5 11210             63426                  31315   \n",
      "9   ZCTA5 11212             84006                  35682   \n",
      "10  ZCTA5 11213             69131                  32227   \n",
      "11  ZCTA5 11214             90796                  44699   \n",
      "12  ZCTA5 11215             72014                  35708   \n",
      "13  ZCTA5 11216             62373                  28654   \n",
      "14  ZCTA5 11217             43045                  19759   \n",
      "15  ZCTA5 11218             73318                  37486   \n",
      "16  ZCTA5 11219             92283                  47258   \n",
      "17  ZCTA5 11220             93008                  46378   \n",
      "18  ZCTA5 11221             91236                  42539   \n",
      "19  ZCTA5 11223             80113                  38338   \n",
      "20  ZCTA5 11224             47893                  22112   \n",
      "21  ZCTA5 11225             58476                  27373   \n",
      "22  ZCTA5 11226            101053                  46615   \n",
      "23  ZCTA5 11228             44196                  22098   \n",
      "24  ZCTA5 11229             81109                  39428   \n",
      "25  ZCTA5 11230             90245                  44876   \n",
      "26  ZCTA5 11231             38829                  18277   \n",
      "27  ZCTA5 11232             28137                  15242   \n",
      "28  ZCTA5 11233             83125                  37663   \n",
      "29  ZCTA5 11234             89976                  41815   \n",
      "30  ZCTA5 11235             83069                  40192   \n",
      "31  ZCTA5 11236            100082                  45553   \n",
      "32  ZCTA5 11237             47183                  24514   \n",
      "33  ZCTA5 11238             58047                  26680   \n",
      "34  ZCTA5 11239             16808                   6797   \n",
      "\n",
      "    Total Population Female  Sex ratio (males per 100 females)  \\\n",
      "0                     42268                               78.9   \n",
      "1                     18767                              105.7   \n",
      "2                     36560                               90.8   \n",
      "3                     42474                               84.8   \n",
      "4                     40686                               98.0   \n",
      "5                     27254                               84.6   \n",
      "6                     47081                               91.1   \n",
      "7                     37177                               93.2   \n",
      "8                     32111                               97.5   \n",
      "9                     48324                               73.8   \n",
      "10                    36904                               87.3   \n",
      "11                    46097                               97.0   \n",
      "12                    36306                               98.4   \n",
      "13                    33719                               85.0   \n",
      "14                    23286                               84.9   \n",
      "15                    35832                              104.6   \n",
      "16                    45025                              105.0   \n",
      "17                    46630                               99.5   \n",
      "18                    48697                               87.4   \n",
      "19                    41775                               91.8   \n",
      "20                    25781                               85.8   \n",
      "21                    31103                               88.0   \n",
      "22                    54438                               85.6   \n",
      "23                    22098                              100.0   \n",
      "24                    41681                               94.6   \n",
      "25                    45369                               98.9   \n",
      "26                    20552                               88.9   \n",
      "27                    12895                              118.2   \n",
      "28                    45462                               82.8   \n",
      "29                    48161                               86.8   \n",
      "30                    42877                               93.7   \n",
      "31                    54529                               83.5   \n",
      "32                    22669                              108.1   \n",
      "33                    31367                               85.1   \n",
      "34                    10011                               67.9   \n",
      "\n",
      "    Total Population Male Margin of Error  Total Population Male Percent  \\\n",
      "0                                    1810                           44.1   \n",
      "1                                    1594                           51.4   \n",
      "2                                    1663                           47.6   \n",
      "3                                    1634                           45.9   \n",
      "4                                    1940                           49.5   \n",
      "5                                    1381                           45.8   \n",
      "6                                    2395                           47.7   \n",
      "7                                    1293                           48.2   \n",
      "8                                    1526                           49.4   \n",
      "9                                    2609                           42.5   \n",
      "10                                   1832                           46.6   \n",
      "11                                   1988                           49.2   \n",
      "12                                   1742                           49.6   \n",
      "13                                   1583                           45.9   \n",
      "14                                    938                           45.9   \n",
      "15                                   2132                           51.1   \n",
      "16                                   2326                           51.2   \n",
      "17                                   2181                           49.9   \n",
      "18                                   2352                           46.6   \n",
      "19                                   1734                           47.9   \n",
      "20                                   1539                           46.2   \n",
      "21                                   1684                           46.8   \n",
      "22                                   2251                           46.1   \n",
      "23                                   1360                           50.0   \n",
      "24                                   1545                           48.6   \n",
      "25                                   1844                           49.7   \n",
      "26                                   1298                           47.1   \n",
      "27                                   1030                           54.2   \n",
      "28                                   1886                           45.3   \n",
      "29                                   1596                           46.5   \n",
      "30                                   1677                           48.4   \n",
      "31                                   1751                           45.5   \n",
      "32                                   1549                           52.0   \n",
      "33                                   1281                           46.0   \n",
      "34                                    824                           40.4   \n",
      "\n",
      "    Total Population Female Margin of Error  Total Population Female Percent  \\\n",
      "0                                      2329                             55.9   \n",
      "1                                      1424                             48.6   \n",
      "2                                      1598                             52.4   \n",
      "3                                      1664                             54.1   \n",
      "4                                      1882                             50.5   \n",
      "5                                      1541                             54.2   \n",
      "6                                      2012                             52.3   \n",
      "7                                      1254                             51.8   \n",
      "8                                      1530                             50.6   \n",
      "9                                      2491                             57.5   \n",
      "10                                     1643                             53.4   \n",
      "11                                     1833                             50.8   \n",
      "12                                     1451                             50.4   \n",
      "13                                     1674                             54.1   \n",
      "14                                     1257                             54.1   \n",
      "15                                     1805                             48.9   \n",
      "16                                     2131                             48.8   \n",
      "17                                     2167                             50.1   \n",
      "18                                     2404                             53.4   \n",
      "19                                     2053                             52.1   \n",
      "20                                     1148                             53.8   \n",
      "21                                     1931                             53.2   \n",
      "22                                     2672                             53.9   \n",
      "23                                     1168                             50.0   \n",
      "24                                     1731                             51.4   \n",
      "25                                     1497                             50.3   \n",
      "26                                     1654                             52.9   \n",
      "27                                     1010                             45.8   \n",
      "28                                     1991                             54.7   \n",
      "29                                     1721                             53.5   \n",
      "30                                     1573                             51.6   \n",
      "31                                     1934                             54.5   \n",
      "32                                     1362                             48.0   \n",
      "33                                     1358                             54.0   \n",
      "34                                      992                             59.6   \n",
      "\n",
      "    Total Population Under 5 years  Total Population under 18  \\\n",
      "0                             3965                      13641   \n",
      "1                             2382                       8206   \n",
      "2                             4950                      12300   \n",
      "3                             4037                      14669   \n",
      "4                             7209                      24145   \n",
      "5                             4751                      15487   \n",
      "6                             7202                      24655   \n",
      "7                             4186                      14149   \n",
      "8                             3475                      14836   \n",
      "9                             5889                      19387   \n",
      "10                            4835                      16216   \n",
      "11                            5230                      19452   \n",
      "12                            5712                      16175   \n",
      "13                            3107                       9680   \n",
      "14                            3694                       8135   \n",
      "15                            4931                      19225   \n",
      "16                           12125                      35847   \n",
      "17                            5782                      23657   \n",
      "18                            4616                      15769   \n",
      "19                            6642                      21509   \n",
      "20                            2274                       9410   \n",
      "21                            3053                       9790   \n",
      "22                            5566                      18944   \n",
      "23                            2279                       8145   \n",
      "24                            4778                      17901   \n",
      "25                            7918                      24631   \n",
      "26                            3167                       8980   \n",
      "27                            1542                       5620   \n",
      "28                            5703                      17353   \n",
      "29                            4665                      19326   \n",
      "30                            4313                      14176   \n",
      "31                            5712                      21790   \n",
      "32                            2014                       7496   \n",
      "33                            4452                       9837   \n",
      "34                             487                       3175   \n",
      "\n",
      "    Total Housing Units  \n",
      "0                 37150  \n",
      "1                 16239  \n",
      "2                 35121  \n",
      "3                 32743  \n",
      "4                 27408  \n",
      "5                 18788  \n",
      "6                 34062  \n",
      "7                 33347  \n",
      "8                 23064  \n",
      "9                 34529  \n",
      "10                28552  \n",
      "11                33482  \n",
      "12                31967  \n",
      "13                28596  \n",
      "14                20908  \n",
      "15                27395  \n",
      "16                27374  \n",
      "17                30565  \n",
      "18                37962  \n",
      "19                29145  \n",
      "20                21072  \n",
      "21                26703  \n",
      "22                41821  \n",
      "23                16650  \n",
      "24                33403  \n",
      "25                34324  \n",
      "26                17956  \n",
      "27                10180  \n",
      "28                34246  \n",
      "29                35350  \n",
      "30                36885  \n",
      "31                36879  \n",
      "32                18725  \n",
      "33                28741  \n",
      "34                 8738  \n"
     ]
    }
   ],
   "source": [
    "print(census_df)"
   ]
  },
  {
   "cell_type": "code",
   "execution_count": 44,
   "id": "833cf988",
   "metadata": {},
   "outputs": [],
   "source": [
    "census_df['Zipcode']=census_df['Zipcode'].replace('ZCTA5', '', regex=True)"
   ]
  },
  {
   "cell_type": "markdown",
   "id": "ad02f739",
   "metadata": {},
   "source": [
    "<b> Geographic analysis: the distribution of population and housing units across different zip codes. <b>"
   ]
  },
  {
   "cell_type": "code",
   "execution_count": 52,
   "id": "210f2b8b",
   "metadata": {},
   "outputs": [],
   "source": [
    "geo_df = census_df[['Zipcode', 'Total Population', 'Total Housing Units']]"
   ]
  },
  {
   "cell_type": "code",
   "execution_count": 61,
   "id": "6c1396b9",
   "metadata": {},
   "outputs": [
    {
     "name": "stdout",
     "output_type": "stream",
     "text": [
      "         Total Population  Total Housing Units\n",
      "Zipcode                                       \n",
      " 10029              75614                37150\n",
      " 10035              38595                16239\n",
      " 11201              69755                35121\n",
      " 11203              78506                32743\n",
      " 11204              80575                27408\n",
      " 11205              50319                18788\n",
      " 11206              89949                34062\n",
      " 11209              71812                33347\n",
      " 11210              63426                23064\n",
      " 11212              84006                34529\n",
      " 11213              69131                28552\n",
      " 11214              90796                33482\n",
      " 11215              72014                31967\n",
      " 11216              62373                28596\n",
      " 11217              43045                20908\n",
      " 11218              73318                27395\n",
      " 11219              92283                27374\n",
      " 11220              93008                30565\n",
      " 11221              91236                37962\n",
      " 11223              80113                29145\n",
      " 11224              47893                21072\n",
      " 11225              58476                26703\n",
      " 11226             101053                41821\n",
      " 11228              44196                16650\n",
      " 11229              81109                33403\n",
      " 11230              90245                34324\n",
      " 11231              38829                17956\n",
      " 11232              28137                10180\n",
      " 11233              83125                34246\n",
      " 11234              89976                35350\n",
      " 11235              83069                36885\n",
      " 11236             100082                36879\n",
      " 11237              47183                18725\n",
      " 11238              58047                28741\n",
      " 11239              16808                 8738\n"
     ]
    }
   ],
   "source": [
    "# Print the total population and housing units for each zip code\n",
    "geo_df = geo_df.groupby('Zipcode').sum()\n",
    "print(geo_df)"
   ]
  },
  {
   "cell_type": "code",
   "execution_count": 63,
   "id": "c02a4ccf",
   "metadata": {},
   "outputs": [],
   "source": [
    "geo_df = geo_df.sort_values(by=[ 'Total Housing Units'], ascending=False)"
   ]
  },
  {
   "cell_type": "code",
   "execution_count": 65,
   "id": "e2180353",
   "metadata": {},
   "outputs": [
    {
     "data": {
      "application/vnd.plotly.v1+json": {
       "config": {
        "plotlyServerURL": "https://plot.ly"
       },
       "data": [
        {
         "alignmentgroup": "True",
         "hovertemplate": "Metric=Total Population<br>Zipcode=%{x}<br>Count=%{y}<extra></extra>",
         "legendgroup": "Total Population",
         "marker": {
          "color": "#636efa",
          "pattern": {
           "shape": ""
          }
         },
         "name": "Total Population",
         "offsetgroup": "Total Population",
         "orientation": "v",
         "showlegend": true,
         "textposition": "auto",
         "type": "bar",
         "x": [
          " 11226",
          " 11221",
          " 10029",
          " 11235",
          " 11236",
          " 11234",
          " 11201",
          " 11212",
          " 11230",
          " 11233",
          " 11206",
          " 11214",
          " 11229",
          " 11209",
          " 11203",
          " 11215",
          " 11220",
          " 11223",
          " 11238",
          " 11216",
          " 11213",
          " 11204",
          " 11218",
          " 11219",
          " 11225",
          " 11210",
          " 11224",
          " 11217",
          " 11205",
          " 11237",
          " 11231",
          " 11228",
          " 10035",
          " 11232",
          " 11239"
         ],
         "xaxis": "x",
         "y": [
          101053,
          91236,
          75614,
          83069,
          100082,
          89976,
          69755,
          84006,
          90245,
          83125,
          89949,
          90796,
          81109,
          71812,
          78506,
          72014,
          93008,
          80113,
          58047,
          62373,
          69131,
          80575,
          73318,
          92283,
          58476,
          63426,
          47893,
          43045,
          50319,
          47183,
          38829,
          44196,
          38595,
          28137,
          16808
         ],
         "yaxis": "y"
        },
        {
         "alignmentgroup": "True",
         "hovertemplate": "Metric=Total Housing Units<br>Zipcode=%{x}<br>Count=%{y}<extra></extra>",
         "legendgroup": "Total Housing Units",
         "marker": {
          "color": "#EF553B",
          "pattern": {
           "shape": ""
          }
         },
         "name": "Total Housing Units",
         "offsetgroup": "Total Housing Units",
         "orientation": "v",
         "showlegend": true,
         "textposition": "auto",
         "type": "bar",
         "x": [
          " 11226",
          " 11221",
          " 10029",
          " 11235",
          " 11236",
          " 11234",
          " 11201",
          " 11212",
          " 11230",
          " 11233",
          " 11206",
          " 11214",
          " 11229",
          " 11209",
          " 11203",
          " 11215",
          " 11220",
          " 11223",
          " 11238",
          " 11216",
          " 11213",
          " 11204",
          " 11218",
          " 11219",
          " 11225",
          " 11210",
          " 11224",
          " 11217",
          " 11205",
          " 11237",
          " 11231",
          " 11228",
          " 10035",
          " 11232",
          " 11239"
         ],
         "xaxis": "x",
         "y": [
          41821,
          37962,
          37150,
          36885,
          36879,
          35350,
          35121,
          34529,
          34324,
          34246,
          34062,
          33482,
          33403,
          33347,
          32743,
          31967,
          30565,
          29145,
          28741,
          28596,
          28552,
          27408,
          27395,
          27374,
          26703,
          23064,
          21072,
          20908,
          18788,
          18725,
          17956,
          16650,
          16239,
          10180,
          8738
         ],
         "yaxis": "y"
        }
       ],
       "layout": {
        "barmode": "relative",
        "legend": {
         "title": {
          "text": "Metric"
         },
         "tracegroupgap": 0
        },
        "margin": {
         "t": 60
        },
        "template": {
         "data": {
          "bar": [
           {
            "error_x": {
             "color": "#2a3f5f"
            },
            "error_y": {
             "color": "#2a3f5f"
            },
            "marker": {
             "line": {
              "color": "#E5ECF6",
              "width": 0.5
             },
             "pattern": {
              "fillmode": "overlay",
              "size": 10,
              "solidity": 0.2
             }
            },
            "type": "bar"
           }
          ],
          "barpolar": [
           {
            "marker": {
             "line": {
              "color": "#E5ECF6",
              "width": 0.5
             },
             "pattern": {
              "fillmode": "overlay",
              "size": 10,
              "solidity": 0.2
             }
            },
            "type": "barpolar"
           }
          ],
          "carpet": [
           {
            "aaxis": {
             "endlinecolor": "#2a3f5f",
             "gridcolor": "white",
             "linecolor": "white",
             "minorgridcolor": "white",
             "startlinecolor": "#2a3f5f"
            },
            "baxis": {
             "endlinecolor": "#2a3f5f",
             "gridcolor": "white",
             "linecolor": "white",
             "minorgridcolor": "white",
             "startlinecolor": "#2a3f5f"
            },
            "type": "carpet"
           }
          ],
          "choropleth": [
           {
            "colorbar": {
             "outlinewidth": 0,
             "ticks": ""
            },
            "type": "choropleth"
           }
          ],
          "contour": [
           {
            "colorbar": {
             "outlinewidth": 0,
             "ticks": ""
            },
            "colorscale": [
             [
              0,
              "#0d0887"
             ],
             [
              0.1111111111111111,
              "#46039f"
             ],
             [
              0.2222222222222222,
              "#7201a8"
             ],
             [
              0.3333333333333333,
              "#9c179e"
             ],
             [
              0.4444444444444444,
              "#bd3786"
             ],
             [
              0.5555555555555556,
              "#d8576b"
             ],
             [
              0.6666666666666666,
              "#ed7953"
             ],
             [
              0.7777777777777778,
              "#fb9f3a"
             ],
             [
              0.8888888888888888,
              "#fdca26"
             ],
             [
              1,
              "#f0f921"
             ]
            ],
            "type": "contour"
           }
          ],
          "contourcarpet": [
           {
            "colorbar": {
             "outlinewidth": 0,
             "ticks": ""
            },
            "type": "contourcarpet"
           }
          ],
          "heatmap": [
           {
            "colorbar": {
             "outlinewidth": 0,
             "ticks": ""
            },
            "colorscale": [
             [
              0,
              "#0d0887"
             ],
             [
              0.1111111111111111,
              "#46039f"
             ],
             [
              0.2222222222222222,
              "#7201a8"
             ],
             [
              0.3333333333333333,
              "#9c179e"
             ],
             [
              0.4444444444444444,
              "#bd3786"
             ],
             [
              0.5555555555555556,
              "#d8576b"
             ],
             [
              0.6666666666666666,
              "#ed7953"
             ],
             [
              0.7777777777777778,
              "#fb9f3a"
             ],
             [
              0.8888888888888888,
              "#fdca26"
             ],
             [
              1,
              "#f0f921"
             ]
            ],
            "type": "heatmap"
           }
          ],
          "heatmapgl": [
           {
            "colorbar": {
             "outlinewidth": 0,
             "ticks": ""
            },
            "colorscale": [
             [
              0,
              "#0d0887"
             ],
             [
              0.1111111111111111,
              "#46039f"
             ],
             [
              0.2222222222222222,
              "#7201a8"
             ],
             [
              0.3333333333333333,
              "#9c179e"
             ],
             [
              0.4444444444444444,
              "#bd3786"
             ],
             [
              0.5555555555555556,
              "#d8576b"
             ],
             [
              0.6666666666666666,
              "#ed7953"
             ],
             [
              0.7777777777777778,
              "#fb9f3a"
             ],
             [
              0.8888888888888888,
              "#fdca26"
             ],
             [
              1,
              "#f0f921"
             ]
            ],
            "type": "heatmapgl"
           }
          ],
          "histogram": [
           {
            "marker": {
             "pattern": {
              "fillmode": "overlay",
              "size": 10,
              "solidity": 0.2
             }
            },
            "type": "histogram"
           }
          ],
          "histogram2d": [
           {
            "colorbar": {
             "outlinewidth": 0,
             "ticks": ""
            },
            "colorscale": [
             [
              0,
              "#0d0887"
             ],
             [
              0.1111111111111111,
              "#46039f"
             ],
             [
              0.2222222222222222,
              "#7201a8"
             ],
             [
              0.3333333333333333,
              "#9c179e"
             ],
             [
              0.4444444444444444,
              "#bd3786"
             ],
             [
              0.5555555555555556,
              "#d8576b"
             ],
             [
              0.6666666666666666,
              "#ed7953"
             ],
             [
              0.7777777777777778,
              "#fb9f3a"
             ],
             [
              0.8888888888888888,
              "#fdca26"
             ],
             [
              1,
              "#f0f921"
             ]
            ],
            "type": "histogram2d"
           }
          ],
          "histogram2dcontour": [
           {
            "colorbar": {
             "outlinewidth": 0,
             "ticks": ""
            },
            "colorscale": [
             [
              0,
              "#0d0887"
             ],
             [
              0.1111111111111111,
              "#46039f"
             ],
             [
              0.2222222222222222,
              "#7201a8"
             ],
             [
              0.3333333333333333,
              "#9c179e"
             ],
             [
              0.4444444444444444,
              "#bd3786"
             ],
             [
              0.5555555555555556,
              "#d8576b"
             ],
             [
              0.6666666666666666,
              "#ed7953"
             ],
             [
              0.7777777777777778,
              "#fb9f3a"
             ],
             [
              0.8888888888888888,
              "#fdca26"
             ],
             [
              1,
              "#f0f921"
             ]
            ],
            "type": "histogram2dcontour"
           }
          ],
          "mesh3d": [
           {
            "colorbar": {
             "outlinewidth": 0,
             "ticks": ""
            },
            "type": "mesh3d"
           }
          ],
          "parcoords": [
           {
            "line": {
             "colorbar": {
              "outlinewidth": 0,
              "ticks": ""
             }
            },
            "type": "parcoords"
           }
          ],
          "pie": [
           {
            "automargin": true,
            "type": "pie"
           }
          ],
          "scatter": [
           {
            "fillpattern": {
             "fillmode": "overlay",
             "size": 10,
             "solidity": 0.2
            },
            "type": "scatter"
           }
          ],
          "scatter3d": [
           {
            "line": {
             "colorbar": {
              "outlinewidth": 0,
              "ticks": ""
             }
            },
            "marker": {
             "colorbar": {
              "outlinewidth": 0,
              "ticks": ""
             }
            },
            "type": "scatter3d"
           }
          ],
          "scattercarpet": [
           {
            "marker": {
             "colorbar": {
              "outlinewidth": 0,
              "ticks": ""
             }
            },
            "type": "scattercarpet"
           }
          ],
          "scattergeo": [
           {
            "marker": {
             "colorbar": {
              "outlinewidth": 0,
              "ticks": ""
             }
            },
            "type": "scattergeo"
           }
          ],
          "scattergl": [
           {
            "marker": {
             "colorbar": {
              "outlinewidth": 0,
              "ticks": ""
             }
            },
            "type": "scattergl"
           }
          ],
          "scattermapbox": [
           {
            "marker": {
             "colorbar": {
              "outlinewidth": 0,
              "ticks": ""
             }
            },
            "type": "scattermapbox"
           }
          ],
          "scatterpolar": [
           {
            "marker": {
             "colorbar": {
              "outlinewidth": 0,
              "ticks": ""
             }
            },
            "type": "scatterpolar"
           }
          ],
          "scatterpolargl": [
           {
            "marker": {
             "colorbar": {
              "outlinewidth": 0,
              "ticks": ""
             }
            },
            "type": "scatterpolargl"
           }
          ],
          "scatterternary": [
           {
            "marker": {
             "colorbar": {
              "outlinewidth": 0,
              "ticks": ""
             }
            },
            "type": "scatterternary"
           }
          ],
          "surface": [
           {
            "colorbar": {
             "outlinewidth": 0,
             "ticks": ""
            },
            "colorscale": [
             [
              0,
              "#0d0887"
             ],
             [
              0.1111111111111111,
              "#46039f"
             ],
             [
              0.2222222222222222,
              "#7201a8"
             ],
             [
              0.3333333333333333,
              "#9c179e"
             ],
             [
              0.4444444444444444,
              "#bd3786"
             ],
             [
              0.5555555555555556,
              "#d8576b"
             ],
             [
              0.6666666666666666,
              "#ed7953"
             ],
             [
              0.7777777777777778,
              "#fb9f3a"
             ],
             [
              0.8888888888888888,
              "#fdca26"
             ],
             [
              1,
              "#f0f921"
             ]
            ],
            "type": "surface"
           }
          ],
          "table": [
           {
            "cells": {
             "fill": {
              "color": "#EBF0F8"
             },
             "line": {
              "color": "white"
             }
            },
            "header": {
             "fill": {
              "color": "#C8D4E3"
             },
             "line": {
              "color": "white"
             }
            },
            "type": "table"
           }
          ]
         },
         "layout": {
          "annotationdefaults": {
           "arrowcolor": "#2a3f5f",
           "arrowhead": 0,
           "arrowwidth": 1
          },
          "autotypenumbers": "strict",
          "coloraxis": {
           "colorbar": {
            "outlinewidth": 0,
            "ticks": ""
           }
          },
          "colorscale": {
           "diverging": [
            [
             0,
             "#8e0152"
            ],
            [
             0.1,
             "#c51b7d"
            ],
            [
             0.2,
             "#de77ae"
            ],
            [
             0.3,
             "#f1b6da"
            ],
            [
             0.4,
             "#fde0ef"
            ],
            [
             0.5,
             "#f7f7f7"
            ],
            [
             0.6,
             "#e6f5d0"
            ],
            [
             0.7,
             "#b8e186"
            ],
            [
             0.8,
             "#7fbc41"
            ],
            [
             0.9,
             "#4d9221"
            ],
            [
             1,
             "#276419"
            ]
           ],
           "sequential": [
            [
             0,
             "#0d0887"
            ],
            [
             0.1111111111111111,
             "#46039f"
            ],
            [
             0.2222222222222222,
             "#7201a8"
            ],
            [
             0.3333333333333333,
             "#9c179e"
            ],
            [
             0.4444444444444444,
             "#bd3786"
            ],
            [
             0.5555555555555556,
             "#d8576b"
            ],
            [
             0.6666666666666666,
             "#ed7953"
            ],
            [
             0.7777777777777778,
             "#fb9f3a"
            ],
            [
             0.8888888888888888,
             "#fdca26"
            ],
            [
             1,
             "#f0f921"
            ]
           ],
           "sequentialminus": [
            [
             0,
             "#0d0887"
            ],
            [
             0.1111111111111111,
             "#46039f"
            ],
            [
             0.2222222222222222,
             "#7201a8"
            ],
            [
             0.3333333333333333,
             "#9c179e"
            ],
            [
             0.4444444444444444,
             "#bd3786"
            ],
            [
             0.5555555555555556,
             "#d8576b"
            ],
            [
             0.6666666666666666,
             "#ed7953"
            ],
            [
             0.7777777777777778,
             "#fb9f3a"
            ],
            [
             0.8888888888888888,
             "#fdca26"
            ],
            [
             1,
             "#f0f921"
            ]
           ]
          },
          "colorway": [
           "#636efa",
           "#EF553B",
           "#00cc96",
           "#ab63fa",
           "#FFA15A",
           "#19d3f3",
           "#FF6692",
           "#B6E880",
           "#FF97FF",
           "#FECB52"
          ],
          "font": {
           "color": "#2a3f5f"
          },
          "geo": {
           "bgcolor": "white",
           "lakecolor": "white",
           "landcolor": "#E5ECF6",
           "showlakes": true,
           "showland": true,
           "subunitcolor": "white"
          },
          "hoverlabel": {
           "align": "left"
          },
          "hovermode": "closest",
          "mapbox": {
           "style": "light"
          },
          "paper_bgcolor": "white",
          "plot_bgcolor": "#E5ECF6",
          "polar": {
           "angularaxis": {
            "gridcolor": "white",
            "linecolor": "white",
            "ticks": ""
           },
           "bgcolor": "#E5ECF6",
           "radialaxis": {
            "gridcolor": "white",
            "linecolor": "white",
            "ticks": ""
           }
          },
          "scene": {
           "xaxis": {
            "backgroundcolor": "#E5ECF6",
            "gridcolor": "white",
            "gridwidth": 2,
            "linecolor": "white",
            "showbackground": true,
            "ticks": "",
            "zerolinecolor": "white"
           },
           "yaxis": {
            "backgroundcolor": "#E5ECF6",
            "gridcolor": "white",
            "gridwidth": 2,
            "linecolor": "white",
            "showbackground": true,
            "ticks": "",
            "zerolinecolor": "white"
           },
           "zaxis": {
            "backgroundcolor": "#E5ECF6",
            "gridcolor": "white",
            "gridwidth": 2,
            "linecolor": "white",
            "showbackground": true,
            "ticks": "",
            "zerolinecolor": "white"
           }
          },
          "shapedefaults": {
           "line": {
            "color": "#2a3f5f"
           }
          },
          "ternary": {
           "aaxis": {
            "gridcolor": "white",
            "linecolor": "white",
            "ticks": ""
           },
           "baxis": {
            "gridcolor": "white",
            "linecolor": "white",
            "ticks": ""
           },
           "bgcolor": "#E5ECF6",
           "caxis": {
            "gridcolor": "white",
            "linecolor": "white",
            "ticks": ""
           }
          },
          "title": {
           "x": 0.05
          },
          "xaxis": {
           "automargin": true,
           "gridcolor": "white",
           "linecolor": "white",
           "ticks": "",
           "title": {
            "standoff": 15
           },
           "zerolinecolor": "white",
           "zerolinewidth": 2
          },
          "yaxis": {
           "automargin": true,
           "gridcolor": "white",
           "linecolor": "white",
           "ticks": "",
           "title": {
            "standoff": 15
           },
           "zerolinecolor": "white",
           "zerolinewidth": 2
          }
         }
        },
        "xaxis": {
         "anchor": "y",
         "domain": [
          0,
          1
         ],
         "title": {
          "text": "Zipcode"
         }
        },
        "yaxis": {
         "anchor": "x",
         "domain": [
          0,
          1
         ],
         "title": {
          "text": "Count"
         }
        }
       }
      },
      "text/html": [
       "<div>                            <div id=\"df839b51-5a49-484c-bd4d-020e8bd8ec84\" class=\"plotly-graph-div\" style=\"height:525px; width:100%;\"></div>            <script type=\"text/javascript\">                require([\"plotly\"], function(Plotly) {                    window.PLOTLYENV=window.PLOTLYENV || {};                                    if (document.getElementById(\"df839b51-5a49-484c-bd4d-020e8bd8ec84\")) {                    Plotly.newPlot(                        \"df839b51-5a49-484c-bd4d-020e8bd8ec84\",                        [{\"alignmentgroup\":\"True\",\"hovertemplate\":\"Metric=Total Population<br>Zipcode=%{x}<br>Count=%{y}<extra></extra>\",\"legendgroup\":\"Total Population\",\"marker\":{\"color\":\"#636efa\",\"pattern\":{\"shape\":\"\"}},\"name\":\"Total Population\",\"offsetgroup\":\"Total Population\",\"orientation\":\"v\",\"showlegend\":true,\"textposition\":\"auto\",\"x\":[\" 11226\",\" 11221\",\" 10029\",\" 11235\",\" 11236\",\" 11234\",\" 11201\",\" 11212\",\" 11230\",\" 11233\",\" 11206\",\" 11214\",\" 11229\",\" 11209\",\" 11203\",\" 11215\",\" 11220\",\" 11223\",\" 11238\",\" 11216\",\" 11213\",\" 11204\",\" 11218\",\" 11219\",\" 11225\",\" 11210\",\" 11224\",\" 11217\",\" 11205\",\" 11237\",\" 11231\",\" 11228\",\" 10035\",\" 11232\",\" 11239\"],\"xaxis\":\"x\",\"y\":[101053,91236,75614,83069,100082,89976,69755,84006,90245,83125,89949,90796,81109,71812,78506,72014,93008,80113,58047,62373,69131,80575,73318,92283,58476,63426,47893,43045,50319,47183,38829,44196,38595,28137,16808],\"yaxis\":\"y\",\"type\":\"bar\"},{\"alignmentgroup\":\"True\",\"hovertemplate\":\"Metric=Total Housing Units<br>Zipcode=%{x}<br>Count=%{y}<extra></extra>\",\"legendgroup\":\"Total Housing Units\",\"marker\":{\"color\":\"#EF553B\",\"pattern\":{\"shape\":\"\"}},\"name\":\"Total Housing Units\",\"offsetgroup\":\"Total Housing Units\",\"orientation\":\"v\",\"showlegend\":true,\"textposition\":\"auto\",\"x\":[\" 11226\",\" 11221\",\" 10029\",\" 11235\",\" 11236\",\" 11234\",\" 11201\",\" 11212\",\" 11230\",\" 11233\",\" 11206\",\" 11214\",\" 11229\",\" 11209\",\" 11203\",\" 11215\",\" 11220\",\" 11223\",\" 11238\",\" 11216\",\" 11213\",\" 11204\",\" 11218\",\" 11219\",\" 11225\",\" 11210\",\" 11224\",\" 11217\",\" 11205\",\" 11237\",\" 11231\",\" 11228\",\" 10035\",\" 11232\",\" 11239\"],\"xaxis\":\"x\",\"y\":[41821,37962,37150,36885,36879,35350,35121,34529,34324,34246,34062,33482,33403,33347,32743,31967,30565,29145,28741,28596,28552,27408,27395,27374,26703,23064,21072,20908,18788,18725,17956,16650,16239,10180,8738],\"yaxis\":\"y\",\"type\":\"bar\"}],                        {\"template\":{\"data\":{\"histogram2dcontour\":[{\"type\":\"histogram2dcontour\",\"colorbar\":{\"outlinewidth\":0,\"ticks\":\"\"},\"colorscale\":[[0.0,\"#0d0887\"],[0.1111111111111111,\"#46039f\"],[0.2222222222222222,\"#7201a8\"],[0.3333333333333333,\"#9c179e\"],[0.4444444444444444,\"#bd3786\"],[0.5555555555555556,\"#d8576b\"],[0.6666666666666666,\"#ed7953\"],[0.7777777777777778,\"#fb9f3a\"],[0.8888888888888888,\"#fdca26\"],[1.0,\"#f0f921\"]]}],\"choropleth\":[{\"type\":\"choropleth\",\"colorbar\":{\"outlinewidth\":0,\"ticks\":\"\"}}],\"histogram2d\":[{\"type\":\"histogram2d\",\"colorbar\":{\"outlinewidth\":0,\"ticks\":\"\"},\"colorscale\":[[0.0,\"#0d0887\"],[0.1111111111111111,\"#46039f\"],[0.2222222222222222,\"#7201a8\"],[0.3333333333333333,\"#9c179e\"],[0.4444444444444444,\"#bd3786\"],[0.5555555555555556,\"#d8576b\"],[0.6666666666666666,\"#ed7953\"],[0.7777777777777778,\"#fb9f3a\"],[0.8888888888888888,\"#fdca26\"],[1.0,\"#f0f921\"]]}],\"heatmap\":[{\"type\":\"heatmap\",\"colorbar\":{\"outlinewidth\":0,\"ticks\":\"\"},\"colorscale\":[[0.0,\"#0d0887\"],[0.1111111111111111,\"#46039f\"],[0.2222222222222222,\"#7201a8\"],[0.3333333333333333,\"#9c179e\"],[0.4444444444444444,\"#bd3786\"],[0.5555555555555556,\"#d8576b\"],[0.6666666666666666,\"#ed7953\"],[0.7777777777777778,\"#fb9f3a\"],[0.8888888888888888,\"#fdca26\"],[1.0,\"#f0f921\"]]}],\"heatmapgl\":[{\"type\":\"heatmapgl\",\"colorbar\":{\"outlinewidth\":0,\"ticks\":\"\"},\"colorscale\":[[0.0,\"#0d0887\"],[0.1111111111111111,\"#46039f\"],[0.2222222222222222,\"#7201a8\"],[0.3333333333333333,\"#9c179e\"],[0.4444444444444444,\"#bd3786\"],[0.5555555555555556,\"#d8576b\"],[0.6666666666666666,\"#ed7953\"],[0.7777777777777778,\"#fb9f3a\"],[0.8888888888888888,\"#fdca26\"],[1.0,\"#f0f921\"]]}],\"contourcarpet\":[{\"type\":\"contourcarpet\",\"colorbar\":{\"outlinewidth\":0,\"ticks\":\"\"}}],\"contour\":[{\"type\":\"contour\",\"colorbar\":{\"outlinewidth\":0,\"ticks\":\"\"},\"colorscale\":[[0.0,\"#0d0887\"],[0.1111111111111111,\"#46039f\"],[0.2222222222222222,\"#7201a8\"],[0.3333333333333333,\"#9c179e\"],[0.4444444444444444,\"#bd3786\"],[0.5555555555555556,\"#d8576b\"],[0.6666666666666666,\"#ed7953\"],[0.7777777777777778,\"#fb9f3a\"],[0.8888888888888888,\"#fdca26\"],[1.0,\"#f0f921\"]]}],\"surface\":[{\"type\":\"surface\",\"colorbar\":{\"outlinewidth\":0,\"ticks\":\"\"},\"colorscale\":[[0.0,\"#0d0887\"],[0.1111111111111111,\"#46039f\"],[0.2222222222222222,\"#7201a8\"],[0.3333333333333333,\"#9c179e\"],[0.4444444444444444,\"#bd3786\"],[0.5555555555555556,\"#d8576b\"],[0.6666666666666666,\"#ed7953\"],[0.7777777777777778,\"#fb9f3a\"],[0.8888888888888888,\"#fdca26\"],[1.0,\"#f0f921\"]]}],\"mesh3d\":[{\"type\":\"mesh3d\",\"colorbar\":{\"outlinewidth\":0,\"ticks\":\"\"}}],\"scatter\":[{\"fillpattern\":{\"fillmode\":\"overlay\",\"size\":10,\"solidity\":0.2},\"type\":\"scatter\"}],\"parcoords\":[{\"type\":\"parcoords\",\"line\":{\"colorbar\":{\"outlinewidth\":0,\"ticks\":\"\"}}}],\"scatterpolargl\":[{\"type\":\"scatterpolargl\",\"marker\":{\"colorbar\":{\"outlinewidth\":0,\"ticks\":\"\"}}}],\"bar\":[{\"error_x\":{\"color\":\"#2a3f5f\"},\"error_y\":{\"color\":\"#2a3f5f\"},\"marker\":{\"line\":{\"color\":\"#E5ECF6\",\"width\":0.5},\"pattern\":{\"fillmode\":\"overlay\",\"size\":10,\"solidity\":0.2}},\"type\":\"bar\"}],\"scattergeo\":[{\"type\":\"scattergeo\",\"marker\":{\"colorbar\":{\"outlinewidth\":0,\"ticks\":\"\"}}}],\"scatterpolar\":[{\"type\":\"scatterpolar\",\"marker\":{\"colorbar\":{\"outlinewidth\":0,\"ticks\":\"\"}}}],\"histogram\":[{\"marker\":{\"pattern\":{\"fillmode\":\"overlay\",\"size\":10,\"solidity\":0.2}},\"type\":\"histogram\"}],\"scattergl\":[{\"type\":\"scattergl\",\"marker\":{\"colorbar\":{\"outlinewidth\":0,\"ticks\":\"\"}}}],\"scatter3d\":[{\"type\":\"scatter3d\",\"line\":{\"colorbar\":{\"outlinewidth\":0,\"ticks\":\"\"}},\"marker\":{\"colorbar\":{\"outlinewidth\":0,\"ticks\":\"\"}}}],\"scattermapbox\":[{\"type\":\"scattermapbox\",\"marker\":{\"colorbar\":{\"outlinewidth\":0,\"ticks\":\"\"}}}],\"scatterternary\":[{\"type\":\"scatterternary\",\"marker\":{\"colorbar\":{\"outlinewidth\":0,\"ticks\":\"\"}}}],\"scattercarpet\":[{\"type\":\"scattercarpet\",\"marker\":{\"colorbar\":{\"outlinewidth\":0,\"ticks\":\"\"}}}],\"carpet\":[{\"aaxis\":{\"endlinecolor\":\"#2a3f5f\",\"gridcolor\":\"white\",\"linecolor\":\"white\",\"minorgridcolor\":\"white\",\"startlinecolor\":\"#2a3f5f\"},\"baxis\":{\"endlinecolor\":\"#2a3f5f\",\"gridcolor\":\"white\",\"linecolor\":\"white\",\"minorgridcolor\":\"white\",\"startlinecolor\":\"#2a3f5f\"},\"type\":\"carpet\"}],\"table\":[{\"cells\":{\"fill\":{\"color\":\"#EBF0F8\"},\"line\":{\"color\":\"white\"}},\"header\":{\"fill\":{\"color\":\"#C8D4E3\"},\"line\":{\"color\":\"white\"}},\"type\":\"table\"}],\"barpolar\":[{\"marker\":{\"line\":{\"color\":\"#E5ECF6\",\"width\":0.5},\"pattern\":{\"fillmode\":\"overlay\",\"size\":10,\"solidity\":0.2}},\"type\":\"barpolar\"}],\"pie\":[{\"automargin\":true,\"type\":\"pie\"}]},\"layout\":{\"autotypenumbers\":\"strict\",\"colorway\":[\"#636efa\",\"#EF553B\",\"#00cc96\",\"#ab63fa\",\"#FFA15A\",\"#19d3f3\",\"#FF6692\",\"#B6E880\",\"#FF97FF\",\"#FECB52\"],\"font\":{\"color\":\"#2a3f5f\"},\"hovermode\":\"closest\",\"hoverlabel\":{\"align\":\"left\"},\"paper_bgcolor\":\"white\",\"plot_bgcolor\":\"#E5ECF6\",\"polar\":{\"bgcolor\":\"#E5ECF6\",\"angularaxis\":{\"gridcolor\":\"white\",\"linecolor\":\"white\",\"ticks\":\"\"},\"radialaxis\":{\"gridcolor\":\"white\",\"linecolor\":\"white\",\"ticks\":\"\"}},\"ternary\":{\"bgcolor\":\"#E5ECF6\",\"aaxis\":{\"gridcolor\":\"white\",\"linecolor\":\"white\",\"ticks\":\"\"},\"baxis\":{\"gridcolor\":\"white\",\"linecolor\":\"white\",\"ticks\":\"\"},\"caxis\":{\"gridcolor\":\"white\",\"linecolor\":\"white\",\"ticks\":\"\"}},\"coloraxis\":{\"colorbar\":{\"outlinewidth\":0,\"ticks\":\"\"}},\"colorscale\":{\"sequential\":[[0.0,\"#0d0887\"],[0.1111111111111111,\"#46039f\"],[0.2222222222222222,\"#7201a8\"],[0.3333333333333333,\"#9c179e\"],[0.4444444444444444,\"#bd3786\"],[0.5555555555555556,\"#d8576b\"],[0.6666666666666666,\"#ed7953\"],[0.7777777777777778,\"#fb9f3a\"],[0.8888888888888888,\"#fdca26\"],[1.0,\"#f0f921\"]],\"sequentialminus\":[[0.0,\"#0d0887\"],[0.1111111111111111,\"#46039f\"],[0.2222222222222222,\"#7201a8\"],[0.3333333333333333,\"#9c179e\"],[0.4444444444444444,\"#bd3786\"],[0.5555555555555556,\"#d8576b\"],[0.6666666666666666,\"#ed7953\"],[0.7777777777777778,\"#fb9f3a\"],[0.8888888888888888,\"#fdca26\"],[1.0,\"#f0f921\"]],\"diverging\":[[0,\"#8e0152\"],[0.1,\"#c51b7d\"],[0.2,\"#de77ae\"],[0.3,\"#f1b6da\"],[0.4,\"#fde0ef\"],[0.5,\"#f7f7f7\"],[0.6,\"#e6f5d0\"],[0.7,\"#b8e186\"],[0.8,\"#7fbc41\"],[0.9,\"#4d9221\"],[1,\"#276419\"]]},\"xaxis\":{\"gridcolor\":\"white\",\"linecolor\":\"white\",\"ticks\":\"\",\"title\":{\"standoff\":15},\"zerolinecolor\":\"white\",\"automargin\":true,\"zerolinewidth\":2},\"yaxis\":{\"gridcolor\":\"white\",\"linecolor\":\"white\",\"ticks\":\"\",\"title\":{\"standoff\":15},\"zerolinecolor\":\"white\",\"automargin\":true,\"zerolinewidth\":2},\"scene\":{\"xaxis\":{\"backgroundcolor\":\"#E5ECF6\",\"gridcolor\":\"white\",\"linecolor\":\"white\",\"showbackground\":true,\"ticks\":\"\",\"zerolinecolor\":\"white\",\"gridwidth\":2},\"yaxis\":{\"backgroundcolor\":\"#E5ECF6\",\"gridcolor\":\"white\",\"linecolor\":\"white\",\"showbackground\":true,\"ticks\":\"\",\"zerolinecolor\":\"white\",\"gridwidth\":2},\"zaxis\":{\"backgroundcolor\":\"#E5ECF6\",\"gridcolor\":\"white\",\"linecolor\":\"white\",\"showbackground\":true,\"ticks\":\"\",\"zerolinecolor\":\"white\",\"gridwidth\":2}},\"shapedefaults\":{\"line\":{\"color\":\"#2a3f5f\"}},\"annotationdefaults\":{\"arrowcolor\":\"#2a3f5f\",\"arrowhead\":0,\"arrowwidth\":1},\"geo\":{\"bgcolor\":\"white\",\"landcolor\":\"#E5ECF6\",\"subunitcolor\":\"white\",\"showland\":true,\"showlakes\":true,\"lakecolor\":\"white\"},\"title\":{\"x\":0.05},\"mapbox\":{\"style\":\"light\"}}},\"xaxis\":{\"anchor\":\"y\",\"domain\":[0.0,1.0],\"title\":{\"text\":\"Zipcode\"}},\"yaxis\":{\"anchor\":\"x\",\"domain\":[0.0,1.0],\"title\":{\"text\":\"Count\"}},\"legend\":{\"title\":{\"text\":\"Metric\"},\"tracegroupgap\":0},\"margin\":{\"t\":60},\"barmode\":\"relative\"},                        {\"responsive\": true}                    ).then(function(){\n",
       "                            \n",
       "var gd = document.getElementById('df839b51-5a49-484c-bd4d-020e8bd8ec84');\n",
       "var x = new MutationObserver(function (mutations, observer) {{\n",
       "        var display = window.getComputedStyle(gd).display;\n",
       "        if (!display || display === 'none') {{\n",
       "            console.log([gd, 'removed!']);\n",
       "            Plotly.purge(gd);\n",
       "            observer.disconnect();\n",
       "        }}\n",
       "}});\n",
       "\n",
       "// Listen for the removal of the full notebook cells\n",
       "var notebookContainer = gd.closest('#notebook-container');\n",
       "if (notebookContainer) {{\n",
       "    x.observe(notebookContainer, {childList: true});\n",
       "}}\n",
       "\n",
       "// Listen for the clearing of the current output cell\n",
       "var outputEl = gd.closest('.output');\n",
       "if (outputEl) {{\n",
       "    x.observe(outputEl, {childList: true});\n",
       "}}\n",
       "\n",
       "                        })                };                });            </script>        </div>"
      ]
     },
     "metadata": {},
     "output_type": "display_data"
    }
   ],
   "source": [
    "fig = px.bar(geo_df, x=geo_df.index, y=['Total Population', 'Total Housing Units'], \n",
    "             labels={'x':'Zipcode', 'variable':'Metric', 'value':'Count'})\n",
    "\n",
    "fig.show()"
   ]
  },
  {
   "cell_type": "markdown",
   "id": "a5d8ee63",
   "metadata": {},
   "source": [
    "Neighborhoods with high population density need more resources like housing, schools, hospitals, and public transportation."
   ]
  },
  {
   "cell_type": "markdown",
   "id": "72959449",
   "metadata": {},
   "source": [
    "<b>Demographic analysis: calculate ratio to compare the number of Total Population under 18 to Total Population by Zipcode<b>"
   ]
  },
  {
   "cell_type": "code",
   "execution_count": 76,
   "id": "691e552d",
   "metadata": {},
   "outputs": [],
   "source": [
    "census_df['Minor Ratio']=census_df['Total Population under 18']/census_df['Total Population']"
   ]
  },
  {
   "cell_type": "code",
   "execution_count": 77,
   "id": "20445352",
   "metadata": {},
   "outputs": [
    {
     "name": "stdout",
     "output_type": "stream",
     "text": [
      "   Zipcode  Total Population  Total Population Male  Total Population Female  \\\n",
      "16   11219             92283                  47258                    45025   \n",
      "5    11205             50319                  23065                    27254   \n",
      "4    11204             80575                  39889                    40686   \n",
      "6    11206             89949                  42868                    47081   \n",
      "25   11230             90245                  44876                    45369   \n",
      "19   11223             80113                  38338                    41775   \n",
      "15   11218             73318                  37486                    35832   \n",
      "17   11220             93008                  46378                    46630   \n",
      "10   11213             69131                  32227                    36904   \n",
      "8    11210             63426                  31315                    32111   \n",
      "26   11231             38829                  18277                    20552   \n",
      "9    11212             84006                  35682                    48324   \n",
      "12   11215             72014                  35708                    36306   \n",
      "24   11229             81109                  39428                    41681   \n",
      "31   11236            100082                  45553                    54529   \n",
      "29   11234             89976                  41815                    48161   \n",
      "11   11214             90796                  44699                    46097   \n",
      "1    10035             38595                  19828                    18767   \n",
      "28   11233             83125                  37663                    45462   \n",
      "27   11232             28137                  15242                    12895   \n",
      "7    11209             71812                  34635                    37177   \n",
      "20   11224             47893                  22112                    25781   \n",
      "14   11217             43045                  19759                    23286   \n",
      "34   11239             16808                   6797                    10011   \n",
      "22   11226            101053                  46615                    54438   \n",
      "3    11203             78506                  36032                    42474   \n",
      "23   11228             44196                  22098                    22098   \n",
      "0    10029             75614                  33346                    42268   \n",
      "2    11201             69755                  33195                    36560   \n",
      "18   11221             91236                  42539                    48697   \n",
      "30   11235             83069                  40192                    42877   \n",
      "33   11238             58047                  26680                    31367   \n",
      "21   11225             58476                  27373                    31103   \n",
      "32   11237             47183                  24514                    22669   \n",
      "13   11216             62373                  28654                    33719   \n",
      "\n",
      "    Sex ratio (males per 100 females)  Total Population Male Margin of Error  \\\n",
      "16                              105.0                                   2326   \n",
      "5                                84.6                                   1381   \n",
      "4                                98.0                                   1940   \n",
      "6                                91.1                                   2395   \n",
      "25                               98.9                                   1844   \n",
      "19                               91.8                                   1734   \n",
      "15                              104.6                                   2132   \n",
      "17                               99.5                                   2181   \n",
      "10                               87.3                                   1832   \n",
      "8                                97.5                                   1526   \n",
      "26                               88.9                                   1298   \n",
      "9                                73.8                                   2609   \n",
      "12                               98.4                                   1742   \n",
      "24                               94.6                                   1545   \n",
      "31                               83.5                                   1751   \n",
      "29                               86.8                                   1596   \n",
      "11                               97.0                                   1988   \n",
      "1                               105.7                                   1594   \n",
      "28                               82.8                                   1886   \n",
      "27                              118.2                                   1030   \n",
      "7                                93.2                                   1293   \n",
      "20                               85.8                                   1539   \n",
      "14                               84.9                                    938   \n",
      "34                               67.9                                    824   \n",
      "22                               85.6                                   2251   \n",
      "3                                84.8                                   1634   \n",
      "23                              100.0                                   1360   \n",
      "0                                78.9                                   1810   \n",
      "2                                90.8                                   1663   \n",
      "18                               87.4                                   2352   \n",
      "30                               93.7                                   1677   \n",
      "33                               85.1                                   1281   \n",
      "21                               88.0                                   1684   \n",
      "32                              108.1                                   1549   \n",
      "13                               85.0                                   1583   \n",
      "\n",
      "    Total Population Male Percent  Total Population Female Margin of Error  \\\n",
      "16                           51.2                                     2131   \n",
      "5                            45.8                                     1541   \n",
      "4                            49.5                                     1882   \n",
      "6                            47.7                                     2012   \n",
      "25                           49.7                                     1497   \n",
      "19                           47.9                                     2053   \n",
      "15                           51.1                                     1805   \n",
      "17                           49.9                                     2167   \n",
      "10                           46.6                                     1643   \n",
      "8                            49.4                                     1530   \n",
      "26                           47.1                                     1654   \n",
      "9                            42.5                                     2491   \n",
      "12                           49.6                                     1451   \n",
      "24                           48.6                                     1731   \n",
      "31                           45.5                                     1934   \n",
      "29                           46.5                                     1721   \n",
      "11                           49.2                                     1833   \n",
      "1                            51.4                                     1424   \n",
      "28                           45.3                                     1991   \n",
      "27                           54.2                                     1010   \n",
      "7                            48.2                                     1254   \n",
      "20                           46.2                                     1148   \n",
      "14                           45.9                                     1257   \n",
      "34                           40.4                                      992   \n",
      "22                           46.1                                     2672   \n",
      "3                            45.9                                     1664   \n",
      "23                           50.0                                     1168   \n",
      "0                            44.1                                     2329   \n",
      "2                            47.6                                     1598   \n",
      "18                           46.6                                     2404   \n",
      "30                           48.4                                     1573   \n",
      "33                           46.0                                     1358   \n",
      "21                           46.8                                     1931   \n",
      "32                           52.0                                     1362   \n",
      "13                           45.9                                     1674   \n",
      "\n",
      "    Total Population Female Percent  Total Population Under 5 years  \\\n",
      "16                             48.8                           12125   \n",
      "5                              54.2                            4751   \n",
      "4                              50.5                            7209   \n",
      "6                              52.3                            7202   \n",
      "25                             50.3                            7918   \n",
      "19                             52.1                            6642   \n",
      "15                             48.9                            4931   \n",
      "17                             50.1                            5782   \n",
      "10                             53.4                            4835   \n",
      "8                              50.6                            3475   \n",
      "26                             52.9                            3167   \n",
      "9                              57.5                            5889   \n",
      "12                             50.4                            5712   \n",
      "24                             51.4                            4778   \n",
      "31                             54.5                            5712   \n",
      "29                             53.5                            4665   \n",
      "11                             50.8                            5230   \n",
      "1                              48.6                            2382   \n",
      "28                             54.7                            5703   \n",
      "27                             45.8                            1542   \n",
      "7                              51.8                            4186   \n",
      "20                             53.8                            2274   \n",
      "14                             54.1                            3694   \n",
      "34                             59.6                             487   \n",
      "22                             53.9                            5566   \n",
      "3                              54.1                            4037   \n",
      "23                             50.0                            2279   \n",
      "0                              55.9                            3965   \n",
      "2                              52.4                            4950   \n",
      "18                             53.4                            4616   \n",
      "30                             51.6                            4313   \n",
      "33                             54.0                            4452   \n",
      "21                             53.2                            3053   \n",
      "32                             48.0                            2014   \n",
      "13                             54.1                            3107   \n",
      "\n",
      "    Total Population under 18  Total Housing Units  Housing Ratio  Minor Ratio  \n",
      "16                      35847                27374       0.296631     0.388446  \n",
      "5                       15487                18788       0.373378     0.307776  \n",
      "4                       24145                27408       0.340155     0.299659  \n",
      "6                       24655                34062       0.378681     0.274100  \n",
      "25                      24631                34324       0.380342     0.272935  \n",
      "19                      21509                29145       0.363799     0.268483  \n",
      "15                      19225                27395       0.373646     0.262214  \n",
      "17                      23657                30565       0.328628     0.254354  \n",
      "10                      16216                28552       0.413013     0.234569  \n",
      "8                       14836                23064       0.363636     0.233910  \n",
      "26                       8980                17956       0.462438     0.231270  \n",
      "9                       19387                34529       0.411030     0.230781  \n",
      "12                      16175                31967       0.443900     0.224609  \n",
      "24                      17901                33403       0.411829     0.220703  \n",
      "31                      21790                36879       0.368488     0.217721  \n",
      "29                      19326                35350       0.392883     0.214791  \n",
      "11                      19452                33482       0.368761     0.214239  \n",
      "1                        8206                16239       0.420754     0.212618  \n",
      "28                      17353                34246       0.411982     0.208758  \n",
      "27                       5620                10180       0.361801     0.199737  \n",
      "7                       14149                33347       0.464365     0.197028  \n",
      "20                       9410                21072       0.439981     0.196480  \n",
      "14                       8135                20908       0.485724     0.188988  \n",
      "34                       3175                 8738       0.519871     0.188898  \n",
      "22                      18944                41821       0.413852     0.187466  \n",
      "3                       14669                32743       0.417076     0.186852  \n",
      "23                       8145                16650       0.376731     0.184293  \n",
      "0                       13641                37150       0.491311     0.180403  \n",
      "2                       12300                35121       0.503491     0.176331  \n",
      "18                      15769                37962       0.416086     0.172837  \n",
      "30                      14176                36885       0.444028     0.170653  \n",
      "33                       9837                28741       0.495133     0.169466  \n",
      "21                       9790                26703       0.456649     0.167419  \n",
      "32                       7496                18725       0.396859     0.158871  \n",
      "13                       9680                28596       0.458468     0.155195  \n"
     ]
    }
   ],
   "source": [
    "print(census_df)"
   ]
  },
  {
   "cell_type": "code",
   "execution_count": 70,
   "id": "6a91dcfb",
   "metadata": {},
   "outputs": [],
   "source": [
    "census_df = census_df.sort_values(by=[ 'Minor Ratio'], ascending=False)"
   ]
  },
  {
   "cell_type": "code",
   "execution_count": 73,
   "id": "5589ffb2",
   "metadata": {},
   "outputs": [],
   "source": [
    "# Create a bar chart of the minor ratio by Zipcode\n",
    "fig = px.bar(census_df, x='Zipcode', y='Minor Ratio', title='Minor Ratio by Zipcode')"
   ]
  },
  {
   "cell_type": "code",
   "execution_count": 72,
   "id": "8983b5b8",
   "metadata": {},
   "outputs": [
    {
     "data": {
      "application/vnd.plotly.v1+json": {
       "config": {
        "plotlyServerURL": "https://plot.ly"
       },
       "data": [
        {
         "alignmentgroup": "True",
         "hovertemplate": "Zipcode=%{x}<br>Minor Ratio=%{y}<extra></extra>",
         "legendgroup": "",
         "marker": {
          "color": "#636efa",
          "pattern": {
           "shape": ""
          }
         },
         "name": "",
         "offsetgroup": "",
         "orientation": "v",
         "showlegend": false,
         "textposition": "auto",
         "type": "bar",
         "x": [
          " 11219",
          " 11205",
          " 11204",
          " 11206",
          " 11230",
          " 11223",
          " 11218",
          " 11220",
          " 11213",
          " 11210",
          " 11231",
          " 11212",
          " 11215",
          " 11229",
          " 11236",
          " 11234",
          " 11214",
          " 10035",
          " 11233",
          " 11232",
          " 11209",
          " 11224",
          " 11217",
          " 11239",
          " 11226",
          " 11203",
          " 11228",
          " 10029",
          " 11201",
          " 11221",
          " 11235",
          " 11238",
          " 11225",
          " 11237",
          " 11216"
         ],
         "xaxis": "x",
         "y": [
          0.38844640941451836,
          0.3077763866531529,
          0.29965870307167236,
          0.27409976764611055,
          0.2729347886309491,
          0.2684832673848189,
          0.26221391745546796,
          0.25435446413211765,
          0.2345691513214043,
          0.23391038375429635,
          0.23127044219526643,
          0.23078113468085612,
          0.22460910378537507,
          0.22070300459874984,
          0.21772146839591536,
          0.21479061082955456,
          0.214238512709811,
          0.21261821479466253,
          0.20875789473684211,
          0.19973700110175213,
          0.19702835180749736,
          0.19647965255882904,
          0.18898826809153213,
          0.1888981437410757,
          0.18746598319693625,
          0.18685196035971774,
          0.18429269617159924,
          0.18040309995503478,
          0.17633144577449644,
          0.17283747643474068,
          0.17065331230663666,
          0.1694661222802212,
          0.16741911211437172,
          0.1588707797299875,
          0.1551953569653536
         ],
         "yaxis": "y"
        }
       ],
       "layout": {
        "barmode": "relative",
        "legend": {
         "tracegroupgap": 0
        },
        "template": {
         "data": {
          "bar": [
           {
            "error_x": {
             "color": "#2a3f5f"
            },
            "error_y": {
             "color": "#2a3f5f"
            },
            "marker": {
             "line": {
              "color": "#E5ECF6",
              "width": 0.5
             },
             "pattern": {
              "fillmode": "overlay",
              "size": 10,
              "solidity": 0.2
             }
            },
            "type": "bar"
           }
          ],
          "barpolar": [
           {
            "marker": {
             "line": {
              "color": "#E5ECF6",
              "width": 0.5
             },
             "pattern": {
              "fillmode": "overlay",
              "size": 10,
              "solidity": 0.2
             }
            },
            "type": "barpolar"
           }
          ],
          "carpet": [
           {
            "aaxis": {
             "endlinecolor": "#2a3f5f",
             "gridcolor": "white",
             "linecolor": "white",
             "minorgridcolor": "white",
             "startlinecolor": "#2a3f5f"
            },
            "baxis": {
             "endlinecolor": "#2a3f5f",
             "gridcolor": "white",
             "linecolor": "white",
             "minorgridcolor": "white",
             "startlinecolor": "#2a3f5f"
            },
            "type": "carpet"
           }
          ],
          "choropleth": [
           {
            "colorbar": {
             "outlinewidth": 0,
             "ticks": ""
            },
            "type": "choropleth"
           }
          ],
          "contour": [
           {
            "colorbar": {
             "outlinewidth": 0,
             "ticks": ""
            },
            "colorscale": [
             [
              0,
              "#0d0887"
             ],
             [
              0.1111111111111111,
              "#46039f"
             ],
             [
              0.2222222222222222,
              "#7201a8"
             ],
             [
              0.3333333333333333,
              "#9c179e"
             ],
             [
              0.4444444444444444,
              "#bd3786"
             ],
             [
              0.5555555555555556,
              "#d8576b"
             ],
             [
              0.6666666666666666,
              "#ed7953"
             ],
             [
              0.7777777777777778,
              "#fb9f3a"
             ],
             [
              0.8888888888888888,
              "#fdca26"
             ],
             [
              1,
              "#f0f921"
             ]
            ],
            "type": "contour"
           }
          ],
          "contourcarpet": [
           {
            "colorbar": {
             "outlinewidth": 0,
             "ticks": ""
            },
            "type": "contourcarpet"
           }
          ],
          "heatmap": [
           {
            "colorbar": {
             "outlinewidth": 0,
             "ticks": ""
            },
            "colorscale": [
             [
              0,
              "#0d0887"
             ],
             [
              0.1111111111111111,
              "#46039f"
             ],
             [
              0.2222222222222222,
              "#7201a8"
             ],
             [
              0.3333333333333333,
              "#9c179e"
             ],
             [
              0.4444444444444444,
              "#bd3786"
             ],
             [
              0.5555555555555556,
              "#d8576b"
             ],
             [
              0.6666666666666666,
              "#ed7953"
             ],
             [
              0.7777777777777778,
              "#fb9f3a"
             ],
             [
              0.8888888888888888,
              "#fdca26"
             ],
             [
              1,
              "#f0f921"
             ]
            ],
            "type": "heatmap"
           }
          ],
          "heatmapgl": [
           {
            "colorbar": {
             "outlinewidth": 0,
             "ticks": ""
            },
            "colorscale": [
             [
              0,
              "#0d0887"
             ],
             [
              0.1111111111111111,
              "#46039f"
             ],
             [
              0.2222222222222222,
              "#7201a8"
             ],
             [
              0.3333333333333333,
              "#9c179e"
             ],
             [
              0.4444444444444444,
              "#bd3786"
             ],
             [
              0.5555555555555556,
              "#d8576b"
             ],
             [
              0.6666666666666666,
              "#ed7953"
             ],
             [
              0.7777777777777778,
              "#fb9f3a"
             ],
             [
              0.8888888888888888,
              "#fdca26"
             ],
             [
              1,
              "#f0f921"
             ]
            ],
            "type": "heatmapgl"
           }
          ],
          "histogram": [
           {
            "marker": {
             "pattern": {
              "fillmode": "overlay",
              "size": 10,
              "solidity": 0.2
             }
            },
            "type": "histogram"
           }
          ],
          "histogram2d": [
           {
            "colorbar": {
             "outlinewidth": 0,
             "ticks": ""
            },
            "colorscale": [
             [
              0,
              "#0d0887"
             ],
             [
              0.1111111111111111,
              "#46039f"
             ],
             [
              0.2222222222222222,
              "#7201a8"
             ],
             [
              0.3333333333333333,
              "#9c179e"
             ],
             [
              0.4444444444444444,
              "#bd3786"
             ],
             [
              0.5555555555555556,
              "#d8576b"
             ],
             [
              0.6666666666666666,
              "#ed7953"
             ],
             [
              0.7777777777777778,
              "#fb9f3a"
             ],
             [
              0.8888888888888888,
              "#fdca26"
             ],
             [
              1,
              "#f0f921"
             ]
            ],
            "type": "histogram2d"
           }
          ],
          "histogram2dcontour": [
           {
            "colorbar": {
             "outlinewidth": 0,
             "ticks": ""
            },
            "colorscale": [
             [
              0,
              "#0d0887"
             ],
             [
              0.1111111111111111,
              "#46039f"
             ],
             [
              0.2222222222222222,
              "#7201a8"
             ],
             [
              0.3333333333333333,
              "#9c179e"
             ],
             [
              0.4444444444444444,
              "#bd3786"
             ],
             [
              0.5555555555555556,
              "#d8576b"
             ],
             [
              0.6666666666666666,
              "#ed7953"
             ],
             [
              0.7777777777777778,
              "#fb9f3a"
             ],
             [
              0.8888888888888888,
              "#fdca26"
             ],
             [
              1,
              "#f0f921"
             ]
            ],
            "type": "histogram2dcontour"
           }
          ],
          "mesh3d": [
           {
            "colorbar": {
             "outlinewidth": 0,
             "ticks": ""
            },
            "type": "mesh3d"
           }
          ],
          "parcoords": [
           {
            "line": {
             "colorbar": {
              "outlinewidth": 0,
              "ticks": ""
             }
            },
            "type": "parcoords"
           }
          ],
          "pie": [
           {
            "automargin": true,
            "type": "pie"
           }
          ],
          "scatter": [
           {
            "fillpattern": {
             "fillmode": "overlay",
             "size": 10,
             "solidity": 0.2
            },
            "type": "scatter"
           }
          ],
          "scatter3d": [
           {
            "line": {
             "colorbar": {
              "outlinewidth": 0,
              "ticks": ""
             }
            },
            "marker": {
             "colorbar": {
              "outlinewidth": 0,
              "ticks": ""
             }
            },
            "type": "scatter3d"
           }
          ],
          "scattercarpet": [
           {
            "marker": {
             "colorbar": {
              "outlinewidth": 0,
              "ticks": ""
             }
            },
            "type": "scattercarpet"
           }
          ],
          "scattergeo": [
           {
            "marker": {
             "colorbar": {
              "outlinewidth": 0,
              "ticks": ""
             }
            },
            "type": "scattergeo"
           }
          ],
          "scattergl": [
           {
            "marker": {
             "colorbar": {
              "outlinewidth": 0,
              "ticks": ""
             }
            },
            "type": "scattergl"
           }
          ],
          "scattermapbox": [
           {
            "marker": {
             "colorbar": {
              "outlinewidth": 0,
              "ticks": ""
             }
            },
            "type": "scattermapbox"
           }
          ],
          "scatterpolar": [
           {
            "marker": {
             "colorbar": {
              "outlinewidth": 0,
              "ticks": ""
             }
            },
            "type": "scatterpolar"
           }
          ],
          "scatterpolargl": [
           {
            "marker": {
             "colorbar": {
              "outlinewidth": 0,
              "ticks": ""
             }
            },
            "type": "scatterpolargl"
           }
          ],
          "scatterternary": [
           {
            "marker": {
             "colorbar": {
              "outlinewidth": 0,
              "ticks": ""
             }
            },
            "type": "scatterternary"
           }
          ],
          "surface": [
           {
            "colorbar": {
             "outlinewidth": 0,
             "ticks": ""
            },
            "colorscale": [
             [
              0,
              "#0d0887"
             ],
             [
              0.1111111111111111,
              "#46039f"
             ],
             [
              0.2222222222222222,
              "#7201a8"
             ],
             [
              0.3333333333333333,
              "#9c179e"
             ],
             [
              0.4444444444444444,
              "#bd3786"
             ],
             [
              0.5555555555555556,
              "#d8576b"
             ],
             [
              0.6666666666666666,
              "#ed7953"
             ],
             [
              0.7777777777777778,
              "#fb9f3a"
             ],
             [
              0.8888888888888888,
              "#fdca26"
             ],
             [
              1,
              "#f0f921"
             ]
            ],
            "type": "surface"
           }
          ],
          "table": [
           {
            "cells": {
             "fill": {
              "color": "#EBF0F8"
             },
             "line": {
              "color": "white"
             }
            },
            "header": {
             "fill": {
              "color": "#C8D4E3"
             },
             "line": {
              "color": "white"
             }
            },
            "type": "table"
           }
          ]
         },
         "layout": {
          "annotationdefaults": {
           "arrowcolor": "#2a3f5f",
           "arrowhead": 0,
           "arrowwidth": 1
          },
          "autotypenumbers": "strict",
          "coloraxis": {
           "colorbar": {
            "outlinewidth": 0,
            "ticks": ""
           }
          },
          "colorscale": {
           "diverging": [
            [
             0,
             "#8e0152"
            ],
            [
             0.1,
             "#c51b7d"
            ],
            [
             0.2,
             "#de77ae"
            ],
            [
             0.3,
             "#f1b6da"
            ],
            [
             0.4,
             "#fde0ef"
            ],
            [
             0.5,
             "#f7f7f7"
            ],
            [
             0.6,
             "#e6f5d0"
            ],
            [
             0.7,
             "#b8e186"
            ],
            [
             0.8,
             "#7fbc41"
            ],
            [
             0.9,
             "#4d9221"
            ],
            [
             1,
             "#276419"
            ]
           ],
           "sequential": [
            [
             0,
             "#0d0887"
            ],
            [
             0.1111111111111111,
             "#46039f"
            ],
            [
             0.2222222222222222,
             "#7201a8"
            ],
            [
             0.3333333333333333,
             "#9c179e"
            ],
            [
             0.4444444444444444,
             "#bd3786"
            ],
            [
             0.5555555555555556,
             "#d8576b"
            ],
            [
             0.6666666666666666,
             "#ed7953"
            ],
            [
             0.7777777777777778,
             "#fb9f3a"
            ],
            [
             0.8888888888888888,
             "#fdca26"
            ],
            [
             1,
             "#f0f921"
            ]
           ],
           "sequentialminus": [
            [
             0,
             "#0d0887"
            ],
            [
             0.1111111111111111,
             "#46039f"
            ],
            [
             0.2222222222222222,
             "#7201a8"
            ],
            [
             0.3333333333333333,
             "#9c179e"
            ],
            [
             0.4444444444444444,
             "#bd3786"
            ],
            [
             0.5555555555555556,
             "#d8576b"
            ],
            [
             0.6666666666666666,
             "#ed7953"
            ],
            [
             0.7777777777777778,
             "#fb9f3a"
            ],
            [
             0.8888888888888888,
             "#fdca26"
            ],
            [
             1,
             "#f0f921"
            ]
           ]
          },
          "colorway": [
           "#636efa",
           "#EF553B",
           "#00cc96",
           "#ab63fa",
           "#FFA15A",
           "#19d3f3",
           "#FF6692",
           "#B6E880",
           "#FF97FF",
           "#FECB52"
          ],
          "font": {
           "color": "#2a3f5f"
          },
          "geo": {
           "bgcolor": "white",
           "lakecolor": "white",
           "landcolor": "#E5ECF6",
           "showlakes": true,
           "showland": true,
           "subunitcolor": "white"
          },
          "hoverlabel": {
           "align": "left"
          },
          "hovermode": "closest",
          "mapbox": {
           "style": "light"
          },
          "paper_bgcolor": "white",
          "plot_bgcolor": "#E5ECF6",
          "polar": {
           "angularaxis": {
            "gridcolor": "white",
            "linecolor": "white",
            "ticks": ""
           },
           "bgcolor": "#E5ECF6",
           "radialaxis": {
            "gridcolor": "white",
            "linecolor": "white",
            "ticks": ""
           }
          },
          "scene": {
           "xaxis": {
            "backgroundcolor": "#E5ECF6",
            "gridcolor": "white",
            "gridwidth": 2,
            "linecolor": "white",
            "showbackground": true,
            "ticks": "",
            "zerolinecolor": "white"
           },
           "yaxis": {
            "backgroundcolor": "#E5ECF6",
            "gridcolor": "white",
            "gridwidth": 2,
            "linecolor": "white",
            "showbackground": true,
            "ticks": "",
            "zerolinecolor": "white"
           },
           "zaxis": {
            "backgroundcolor": "#E5ECF6",
            "gridcolor": "white",
            "gridwidth": 2,
            "linecolor": "white",
            "showbackground": true,
            "ticks": "",
            "zerolinecolor": "white"
           }
          },
          "shapedefaults": {
           "line": {
            "color": "#2a3f5f"
           }
          },
          "ternary": {
           "aaxis": {
            "gridcolor": "white",
            "linecolor": "white",
            "ticks": ""
           },
           "baxis": {
            "gridcolor": "white",
            "linecolor": "white",
            "ticks": ""
           },
           "bgcolor": "#E5ECF6",
           "caxis": {
            "gridcolor": "white",
            "linecolor": "white",
            "ticks": ""
           }
          },
          "title": {
           "x": 0.05
          },
          "xaxis": {
           "automargin": true,
           "gridcolor": "white",
           "linecolor": "white",
           "ticks": "",
           "title": {
            "standoff": 15
           },
           "zerolinecolor": "white",
           "zerolinewidth": 2
          },
          "yaxis": {
           "automargin": true,
           "gridcolor": "white",
           "linecolor": "white",
           "ticks": "",
           "title": {
            "standoff": 15
           },
           "zerolinecolor": "white",
           "zerolinewidth": 2
          }
         }
        },
        "title": {
         "text": "Minor Ratio by Zipcode"
        },
        "xaxis": {
         "anchor": "y",
         "domain": [
          0,
          1
         ],
         "title": {
          "text": "Zipcode"
         }
        },
        "yaxis": {
         "anchor": "x",
         "domain": [
          0,
          1
         ],
         "title": {
          "text": "Minor Ratio"
         }
        }
       }
      },
      "text/html": [
       "<div>                            <div id=\"ee903911-f60d-4124-a692-f7a950b5bfe1\" class=\"plotly-graph-div\" style=\"height:525px; width:100%;\"></div>            <script type=\"text/javascript\">                require([\"plotly\"], function(Plotly) {                    window.PLOTLYENV=window.PLOTLYENV || {};                                    if (document.getElementById(\"ee903911-f60d-4124-a692-f7a950b5bfe1\")) {                    Plotly.newPlot(                        \"ee903911-f60d-4124-a692-f7a950b5bfe1\",                        [{\"alignmentgroup\":\"True\",\"hovertemplate\":\"Zipcode=%{x}<br>Minor Ratio=%{y}<extra></extra>\",\"legendgroup\":\"\",\"marker\":{\"color\":\"#636efa\",\"pattern\":{\"shape\":\"\"}},\"name\":\"\",\"offsetgroup\":\"\",\"orientation\":\"v\",\"showlegend\":false,\"textposition\":\"auto\",\"x\":[\" 11219\",\" 11205\",\" 11204\",\" 11206\",\" 11230\",\" 11223\",\" 11218\",\" 11220\",\" 11213\",\" 11210\",\" 11231\",\" 11212\",\" 11215\",\" 11229\",\" 11236\",\" 11234\",\" 11214\",\" 10035\",\" 11233\",\" 11232\",\" 11209\",\" 11224\",\" 11217\",\" 11239\",\" 11226\",\" 11203\",\" 11228\",\" 10029\",\" 11201\",\" 11221\",\" 11235\",\" 11238\",\" 11225\",\" 11237\",\" 11216\"],\"xaxis\":\"x\",\"y\":[0.38844640941451836,0.3077763866531529,0.29965870307167236,0.27409976764611055,0.2729347886309491,0.2684832673848189,0.26221391745546796,0.25435446413211765,0.2345691513214043,0.23391038375429635,0.23127044219526643,0.23078113468085612,0.22460910378537507,0.22070300459874984,0.21772146839591536,0.21479061082955456,0.214238512709811,0.21261821479466253,0.20875789473684211,0.19973700110175213,0.19702835180749736,0.19647965255882904,0.18898826809153213,0.1888981437410757,0.18746598319693625,0.18685196035971774,0.18429269617159924,0.18040309995503478,0.17633144577449644,0.17283747643474068,0.17065331230663666,0.1694661222802212,0.16741911211437172,0.1588707797299875,0.1551953569653536],\"yaxis\":\"y\",\"type\":\"bar\"}],                        {\"template\":{\"data\":{\"histogram2dcontour\":[{\"type\":\"histogram2dcontour\",\"colorbar\":{\"outlinewidth\":0,\"ticks\":\"\"},\"colorscale\":[[0.0,\"#0d0887\"],[0.1111111111111111,\"#46039f\"],[0.2222222222222222,\"#7201a8\"],[0.3333333333333333,\"#9c179e\"],[0.4444444444444444,\"#bd3786\"],[0.5555555555555556,\"#d8576b\"],[0.6666666666666666,\"#ed7953\"],[0.7777777777777778,\"#fb9f3a\"],[0.8888888888888888,\"#fdca26\"],[1.0,\"#f0f921\"]]}],\"choropleth\":[{\"type\":\"choropleth\",\"colorbar\":{\"outlinewidth\":0,\"ticks\":\"\"}}],\"histogram2d\":[{\"type\":\"histogram2d\",\"colorbar\":{\"outlinewidth\":0,\"ticks\":\"\"},\"colorscale\":[[0.0,\"#0d0887\"],[0.1111111111111111,\"#46039f\"],[0.2222222222222222,\"#7201a8\"],[0.3333333333333333,\"#9c179e\"],[0.4444444444444444,\"#bd3786\"],[0.5555555555555556,\"#d8576b\"],[0.6666666666666666,\"#ed7953\"],[0.7777777777777778,\"#fb9f3a\"],[0.8888888888888888,\"#fdca26\"],[1.0,\"#f0f921\"]]}],\"heatmap\":[{\"type\":\"heatmap\",\"colorbar\":{\"outlinewidth\":0,\"ticks\":\"\"},\"colorscale\":[[0.0,\"#0d0887\"],[0.1111111111111111,\"#46039f\"],[0.2222222222222222,\"#7201a8\"],[0.3333333333333333,\"#9c179e\"],[0.4444444444444444,\"#bd3786\"],[0.5555555555555556,\"#d8576b\"],[0.6666666666666666,\"#ed7953\"],[0.7777777777777778,\"#fb9f3a\"],[0.8888888888888888,\"#fdca26\"],[1.0,\"#f0f921\"]]}],\"heatmapgl\":[{\"type\":\"heatmapgl\",\"colorbar\":{\"outlinewidth\":0,\"ticks\":\"\"},\"colorscale\":[[0.0,\"#0d0887\"],[0.1111111111111111,\"#46039f\"],[0.2222222222222222,\"#7201a8\"],[0.3333333333333333,\"#9c179e\"],[0.4444444444444444,\"#bd3786\"],[0.5555555555555556,\"#d8576b\"],[0.6666666666666666,\"#ed7953\"],[0.7777777777777778,\"#fb9f3a\"],[0.8888888888888888,\"#fdca26\"],[1.0,\"#f0f921\"]]}],\"contourcarpet\":[{\"type\":\"contourcarpet\",\"colorbar\":{\"outlinewidth\":0,\"ticks\":\"\"}}],\"contour\":[{\"type\":\"contour\",\"colorbar\":{\"outlinewidth\":0,\"ticks\":\"\"},\"colorscale\":[[0.0,\"#0d0887\"],[0.1111111111111111,\"#46039f\"],[0.2222222222222222,\"#7201a8\"],[0.3333333333333333,\"#9c179e\"],[0.4444444444444444,\"#bd3786\"],[0.5555555555555556,\"#d8576b\"],[0.6666666666666666,\"#ed7953\"],[0.7777777777777778,\"#fb9f3a\"],[0.8888888888888888,\"#fdca26\"],[1.0,\"#f0f921\"]]}],\"surface\":[{\"type\":\"surface\",\"colorbar\":{\"outlinewidth\":0,\"ticks\":\"\"},\"colorscale\":[[0.0,\"#0d0887\"],[0.1111111111111111,\"#46039f\"],[0.2222222222222222,\"#7201a8\"],[0.3333333333333333,\"#9c179e\"],[0.4444444444444444,\"#bd3786\"],[0.5555555555555556,\"#d8576b\"],[0.6666666666666666,\"#ed7953\"],[0.7777777777777778,\"#fb9f3a\"],[0.8888888888888888,\"#fdca26\"],[1.0,\"#f0f921\"]]}],\"mesh3d\":[{\"type\":\"mesh3d\",\"colorbar\":{\"outlinewidth\":0,\"ticks\":\"\"}}],\"scatter\":[{\"fillpattern\":{\"fillmode\":\"overlay\",\"size\":10,\"solidity\":0.2},\"type\":\"scatter\"}],\"parcoords\":[{\"type\":\"parcoords\",\"line\":{\"colorbar\":{\"outlinewidth\":0,\"ticks\":\"\"}}}],\"scatterpolargl\":[{\"type\":\"scatterpolargl\",\"marker\":{\"colorbar\":{\"outlinewidth\":0,\"ticks\":\"\"}}}],\"bar\":[{\"error_x\":{\"color\":\"#2a3f5f\"},\"error_y\":{\"color\":\"#2a3f5f\"},\"marker\":{\"line\":{\"color\":\"#E5ECF6\",\"width\":0.5},\"pattern\":{\"fillmode\":\"overlay\",\"size\":10,\"solidity\":0.2}},\"type\":\"bar\"}],\"scattergeo\":[{\"type\":\"scattergeo\",\"marker\":{\"colorbar\":{\"outlinewidth\":0,\"ticks\":\"\"}}}],\"scatterpolar\":[{\"type\":\"scatterpolar\",\"marker\":{\"colorbar\":{\"outlinewidth\":0,\"ticks\":\"\"}}}],\"histogram\":[{\"marker\":{\"pattern\":{\"fillmode\":\"overlay\",\"size\":10,\"solidity\":0.2}},\"type\":\"histogram\"}],\"scattergl\":[{\"type\":\"scattergl\",\"marker\":{\"colorbar\":{\"outlinewidth\":0,\"ticks\":\"\"}}}],\"scatter3d\":[{\"type\":\"scatter3d\",\"line\":{\"colorbar\":{\"outlinewidth\":0,\"ticks\":\"\"}},\"marker\":{\"colorbar\":{\"outlinewidth\":0,\"ticks\":\"\"}}}],\"scattermapbox\":[{\"type\":\"scattermapbox\",\"marker\":{\"colorbar\":{\"outlinewidth\":0,\"ticks\":\"\"}}}],\"scatterternary\":[{\"type\":\"scatterternary\",\"marker\":{\"colorbar\":{\"outlinewidth\":0,\"ticks\":\"\"}}}],\"scattercarpet\":[{\"type\":\"scattercarpet\",\"marker\":{\"colorbar\":{\"outlinewidth\":0,\"ticks\":\"\"}}}],\"carpet\":[{\"aaxis\":{\"endlinecolor\":\"#2a3f5f\",\"gridcolor\":\"white\",\"linecolor\":\"white\",\"minorgridcolor\":\"white\",\"startlinecolor\":\"#2a3f5f\"},\"baxis\":{\"endlinecolor\":\"#2a3f5f\",\"gridcolor\":\"white\",\"linecolor\":\"white\",\"minorgridcolor\":\"white\",\"startlinecolor\":\"#2a3f5f\"},\"type\":\"carpet\"}],\"table\":[{\"cells\":{\"fill\":{\"color\":\"#EBF0F8\"},\"line\":{\"color\":\"white\"}},\"header\":{\"fill\":{\"color\":\"#C8D4E3\"},\"line\":{\"color\":\"white\"}},\"type\":\"table\"}],\"barpolar\":[{\"marker\":{\"line\":{\"color\":\"#E5ECF6\",\"width\":0.5},\"pattern\":{\"fillmode\":\"overlay\",\"size\":10,\"solidity\":0.2}},\"type\":\"barpolar\"}],\"pie\":[{\"automargin\":true,\"type\":\"pie\"}]},\"layout\":{\"autotypenumbers\":\"strict\",\"colorway\":[\"#636efa\",\"#EF553B\",\"#00cc96\",\"#ab63fa\",\"#FFA15A\",\"#19d3f3\",\"#FF6692\",\"#B6E880\",\"#FF97FF\",\"#FECB52\"],\"font\":{\"color\":\"#2a3f5f\"},\"hovermode\":\"closest\",\"hoverlabel\":{\"align\":\"left\"},\"paper_bgcolor\":\"white\",\"plot_bgcolor\":\"#E5ECF6\",\"polar\":{\"bgcolor\":\"#E5ECF6\",\"angularaxis\":{\"gridcolor\":\"white\",\"linecolor\":\"white\",\"ticks\":\"\"},\"radialaxis\":{\"gridcolor\":\"white\",\"linecolor\":\"white\",\"ticks\":\"\"}},\"ternary\":{\"bgcolor\":\"#E5ECF6\",\"aaxis\":{\"gridcolor\":\"white\",\"linecolor\":\"white\",\"ticks\":\"\"},\"baxis\":{\"gridcolor\":\"white\",\"linecolor\":\"white\",\"ticks\":\"\"},\"caxis\":{\"gridcolor\":\"white\",\"linecolor\":\"white\",\"ticks\":\"\"}},\"coloraxis\":{\"colorbar\":{\"outlinewidth\":0,\"ticks\":\"\"}},\"colorscale\":{\"sequential\":[[0.0,\"#0d0887\"],[0.1111111111111111,\"#46039f\"],[0.2222222222222222,\"#7201a8\"],[0.3333333333333333,\"#9c179e\"],[0.4444444444444444,\"#bd3786\"],[0.5555555555555556,\"#d8576b\"],[0.6666666666666666,\"#ed7953\"],[0.7777777777777778,\"#fb9f3a\"],[0.8888888888888888,\"#fdca26\"],[1.0,\"#f0f921\"]],\"sequentialminus\":[[0.0,\"#0d0887\"],[0.1111111111111111,\"#46039f\"],[0.2222222222222222,\"#7201a8\"],[0.3333333333333333,\"#9c179e\"],[0.4444444444444444,\"#bd3786\"],[0.5555555555555556,\"#d8576b\"],[0.6666666666666666,\"#ed7953\"],[0.7777777777777778,\"#fb9f3a\"],[0.8888888888888888,\"#fdca26\"],[1.0,\"#f0f921\"]],\"diverging\":[[0,\"#8e0152\"],[0.1,\"#c51b7d\"],[0.2,\"#de77ae\"],[0.3,\"#f1b6da\"],[0.4,\"#fde0ef\"],[0.5,\"#f7f7f7\"],[0.6,\"#e6f5d0\"],[0.7,\"#b8e186\"],[0.8,\"#7fbc41\"],[0.9,\"#4d9221\"],[1,\"#276419\"]]},\"xaxis\":{\"gridcolor\":\"white\",\"linecolor\":\"white\",\"ticks\":\"\",\"title\":{\"standoff\":15},\"zerolinecolor\":\"white\",\"automargin\":true,\"zerolinewidth\":2},\"yaxis\":{\"gridcolor\":\"white\",\"linecolor\":\"white\",\"ticks\":\"\",\"title\":{\"standoff\":15},\"zerolinecolor\":\"white\",\"automargin\":true,\"zerolinewidth\":2},\"scene\":{\"xaxis\":{\"backgroundcolor\":\"#E5ECF6\",\"gridcolor\":\"white\",\"linecolor\":\"white\",\"showbackground\":true,\"ticks\":\"\",\"zerolinecolor\":\"white\",\"gridwidth\":2},\"yaxis\":{\"backgroundcolor\":\"#E5ECF6\",\"gridcolor\":\"white\",\"linecolor\":\"white\",\"showbackground\":true,\"ticks\":\"\",\"zerolinecolor\":\"white\",\"gridwidth\":2},\"zaxis\":{\"backgroundcolor\":\"#E5ECF6\",\"gridcolor\":\"white\",\"linecolor\":\"white\",\"showbackground\":true,\"ticks\":\"\",\"zerolinecolor\":\"white\",\"gridwidth\":2}},\"shapedefaults\":{\"line\":{\"color\":\"#2a3f5f\"}},\"annotationdefaults\":{\"arrowcolor\":\"#2a3f5f\",\"arrowhead\":0,\"arrowwidth\":1},\"geo\":{\"bgcolor\":\"white\",\"landcolor\":\"#E5ECF6\",\"subunitcolor\":\"white\",\"showland\":true,\"showlakes\":true,\"lakecolor\":\"white\"},\"title\":{\"x\":0.05},\"mapbox\":{\"style\":\"light\"}}},\"xaxis\":{\"anchor\":\"y\",\"domain\":[0.0,1.0],\"title\":{\"text\":\"Zipcode\"}},\"yaxis\":{\"anchor\":\"x\",\"domain\":[0.0,1.0],\"title\":{\"text\":\"Minor Ratio\"}},\"legend\":{\"tracegroupgap\":0},\"title\":{\"text\":\"Minor Ratio by Zipcode\"},\"barmode\":\"relative\"},                        {\"responsive\": true}                    ).then(function(){\n",
       "                            \n",
       "var gd = document.getElementById('ee903911-f60d-4124-a692-f7a950b5bfe1');\n",
       "var x = new MutationObserver(function (mutations, observer) {{\n",
       "        var display = window.getComputedStyle(gd).display;\n",
       "        if (!display || display === 'none') {{\n",
       "            console.log([gd, 'removed!']);\n",
       "            Plotly.purge(gd);\n",
       "            observer.disconnect();\n",
       "        }}\n",
       "}});\n",
       "\n",
       "// Listen for the removal of the full notebook cells\n",
       "var notebookContainer = gd.closest('#notebook-container');\n",
       "if (notebookContainer) {{\n",
       "    x.observe(notebookContainer, {childList: true});\n",
       "}}\n",
       "\n",
       "// Listen for the clearing of the current output cell\n",
       "var outputEl = gd.closest('.output');\n",
       "if (outputEl) {{\n",
       "    x.observe(outputEl, {childList: true});\n",
       "}}\n",
       "\n",
       "                        })                };                });            </script>        </div>"
      ]
     },
     "metadata": {},
     "output_type": "display_data"
    }
   ],
   "source": [
    "fig.show()"
   ]
  },
  {
   "cell_type": "markdown",
   "id": "d31db313",
   "metadata": {},
   "source": [
    "Neighborhoods with higher minor ratio require more investment in education, childcare, and other social services for young people."
   ]
  },
  {
   "cell_type": "code",
   "execution_count": 78,
   "id": "e7120263",
   "metadata": {},
   "outputs": [],
   "source": [
    "# Write the DataFrame to a new CSV file\n",
    "\n",
    "census_df.to_csv('new_census_data_2022.csv')"
   ]
  }
 ],
 "metadata": {
  "kernelspec": {
   "display_name": "Python 3 (ipykernel)",
   "language": "python",
   "name": "python3"
  },
  "language_info": {
   "codemirror_mode": {
    "name": "ipython",
    "version": 3
   },
   "file_extension": ".py",
   "mimetype": "text/x-python",
   "name": "python",
   "nbconvert_exporter": "python",
   "pygments_lexer": "ipython3",
   "version": "3.10.9"
  }
 },
 "nbformat": 4,
 "nbformat_minor": 5
}
