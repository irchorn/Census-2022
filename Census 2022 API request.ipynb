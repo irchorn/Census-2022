{
 "cells": [
  {
   "cell_type": "code",
   "execution_count": 1,
   "id": "1aa5b46e",
   "metadata": {},
   "outputs": [],
   "source": [
    "import requests\n",
    "import csv"
   ]
  },
  {
   "cell_type": "code",
   "execution_count": 2,
   "id": "d2166525",
   "metadata": {},
   "outputs": [],
   "source": [
    "# Define the URL of the API endpoint \n",
    "\n",
    "url = \"https://api.census.gov/data/2022/acs/acs5/profile?get=group(DP05)&ucgid=860Z200US10029,860Z200US10035,860Z200US11201,860Z200US11203,860Z200US11204,860Z200US11205,860Z200US11206,860Z200US11209,860Z200US11210,860Z200US11212,860Z200US11213,860Z200US11214,860Z200US11215,860Z200US11216,860Z200US11217,860Z200US11218,860Z200US11219,860Z200US11220,860Z200US11221,860Z200US11223,860Z200US11224,860Z200US11225,860Z200US11226,860Z200US11228,860Z200US11229,860Z200US11230,860Z200US11231,860Z200US11232,860Z200US11233,860Z200US11234,860Z200US11235,860Z200US11236,860Z200US11237,860Z200US11238,860Z200US11239\"\n"
   ]
  },
  {
   "cell_type": "code",
   "execution_count": 3,
   "id": "f87e6b4f",
   "metadata": {},
   "outputs": [],
   "source": [
    "# Define the request parameters \n",
    "\n",
    "params = {\n",
    "    \"get\": \"NAME\",\n",
    "    \"for\":\"DP05\",\n",
    "    \"key\":\"my_key\"\n",
    "}"
   ]
  },
  {
   "cell_type": "code",
   "execution_count": 4,
   "id": "b3835a96",
   "metadata": {},
   "outputs": [],
   "source": [
    "# Send a GET request to the API endpoint \n",
    "\n",
    "response = requests.get(url, params=params)\n",
    "data = response.json()"
   ]
  },
  {
   "cell_type": "code",
   "execution_count": 6,
   "id": "6d1e7423",
   "metadata": {},
   "outputs": [],
   "source": [
    "# Create a CSV file in write mode ('w')\n",
    "\n",
    "\n",
    "with open('H:\\census_data_2022.csv', 'w', newline='') as file:\n",
    "    writer = csv.writer(file)\n",
    "    # Write each row of data to the CSV file\n",
    "    for row in data:\n",
    "        writer.writerow(row)"
   ]
  }
 ],
 "metadata": {
  "kernelspec": {
   "display_name": "Python 3 (ipykernel)",
   "language": "python",
   "name": "python3"
  },
  "language_info": {
   "codemirror_mode": {
    "name": "ipython",
    "version": 3
   },
   "file_extension": ".py",
   "mimetype": "text/x-python",
   "name": "python",
   "nbconvert_exporter": "python",
   "pygments_lexer": "ipython3",
   "version": "3.10.9"
  }
 },
 "nbformat": 4,
 "nbformat_minor": 5
}
